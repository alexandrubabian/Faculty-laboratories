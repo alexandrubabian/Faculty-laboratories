{
 "cells": [
  {
   "cell_type": "markdown",
   "metadata": {},
   "source": [
    "Inainte sa trimiti notebook-ul:\n",
    "\n",
    "* asigura-te ca totul se executa cum trebuie. Prima oara, **restarteaza kernel-ul** (in meniu, selecteaza Kernel$\\rightarrow$Restart & Run all);\n",
    "\n",
    "* nu lasa niciun mesaj la output (`disp`, `printf`, linii care nu sunt incheiate cu `;`) in functiile pe care le scrii decat daca ti se specifica explicit sa faci acest lucru! Orice abatere va fi **depunctata automat** de grader;\n",
    "\n",
    "* citeste instructiunile de [aici](https://github.com/radusqrt/numerical-methods/blob/master/lab_instructions.md) cu atentie;\n",
    "\n",
    "* asigura-te ca rezolvi toate celulele in care scrie `YOUR CODE HERE` sau `YOUR ANSWER HERE` si ca iti treci numele mai jos:"
   ]
  },
  {
   "cell_type": "code",
   "execution_count": null,
   "metadata": {},
   "outputs": [],
   "source": [
    "STUDENT_NAME = \"Babian Stelian-Alexandru\";"
   ]
  },
  {
   "cell_type": "markdown",
   "metadata": {},
   "source": [
    "---"
   ]
  },
  {
   "cell_type": "markdown",
   "metadata": {
    "deletable": false,
    "editable": false,
    "nbgrader": {
     "cell_type": "markdown",
     "checksum": "652920343d852f6b46d8ecabeae327ce",
     "grade": false,
     "grade_id": "cell-491b05abecf46f84",
     "locked": true,
     "schema_version": 3,
     "solution": false,
     "task": false
    }
   },
   "source": [
    "# Laborator 5: Metode iterative\n",
    "### Autor: Radu Stochitoiu"
   ]
  },
  {
   "cell_type": "markdown",
   "metadata": {
    "deletable": false,
    "editable": false,
    "nbgrader": {
     "cell_type": "markdown",
     "checksum": "62d63c0ca307c3e426aae8a02e988fc2",
     "grade": false,
     "grade_id": "cell-4a3b5bbfe78ae30b",
     "locked": true,
     "schema_version": 3,
     "solution": false,
     "task": false
    }
   },
   "source": [
    "## Functii ajutatoare    "
   ]
  },
  {
   "cell_type": "code",
   "execution_count": 1,
   "metadata": {
    "deletable": false,
    "editable": false,
    "nbgrader": {
     "cell_type": "code",
     "checksum": "60e27132a888a9f570a64a5685c8b69e",
     "grade": false,
     "grade_id": "cell-f622f54e46202e8d",
     "locked": true,
     "schema_version": 3,
     "solution": false,
     "task": false
    }
   },
   "outputs": [],
   "source": [
    "function [res] = isequal(A, B, err)\n",
    "    res = norm(A - B) < err;\n",
    "endfunction"
   ]
  },
  {
   "cell_type": "markdown",
   "metadata": {
    "deletable": false,
    "editable": false,
    "nbgrader": {
     "cell_type": "markdown",
     "checksum": "8d2644711d6d0a6aabe2a1bd3a87bbb8",
     "grade": false,
     "grade_id": "cell-3045c9e1bbccd878",
     "locked": true,
     "schema_version": 3,
     "solution": false,
     "task": false
    }
   },
   "source": [
    "## Problema 1\n",
    "\n",
    "Implementati functiile ```matrix_Jacobi(A, b, x0, tol, max_steps)``` si ```Jacobi(A, b, x0, tol, max_steps)``` ce primesc o matrice $A$ patratica, de lungime pozitiva, un vector coloana $b$ de lungimea lui $A$, un vector initial $x_0$, o toleranta sub care se pot opri algoritmii $tol$ si un numar maxim de pasi $max\\_steps$ si returneaza vectorul aproximat dupa $steps$ pasi, $x$, eroarea de la ultimul pas $err$ si numarul de pasi efectuati $steps$."
   ]
  },
  {
   "cell_type": "code",
   "execution_count": 6,
   "metadata": {
    "deletable": false,
    "nbgrader": {
     "cell_type": "code",
     "checksum": "2458e04f4603b9f6568067232a2bedd4",
     "grade": false,
     "grade_id": "cell-4ab3744643ccec6c",
     "locked": false,
     "schema_version": 3,
     "solution": true,
     "task": false
    }
   },
   "outputs": [],
   "source": [
    "function [x, err, steps] = matrix_Jacobi(A, b, x0, tol, max_steps)\n",
    "    N=diag(diag(A));\n",
    "    P=N-A;\n",
    "    invn=inv(N);\n",
    "    G=invn*P;\n",
    "    c=invn*b;\n",
    "    prev=x0;\n",
    "    steps=0;\n",
    "    while 1\n",
    "        x=G*prev+c;\n",
    "        err=norm(x-prev);\n",
    "        if (++steps==max_steps||err<tol)\n",
    "            return;\n",
    "        endif\n",
    "        prev=x;\n",
    "    endwhile\n",
    "endfunction\n",
    "\n",
    "function [x, err, steps] = Jacobi(A, b, x0, tol, max_steps)\n",
    "    prev=x0;\n",
    "    x=prev;\n",
    "    n=length(x);\n",
    "    steps=0;\n",
    "    while 1\n",
    "        for i=1:n\n",
    "            x(i)=(b(i)-A(i,:)*prev+A(i,i)*prev(i))/A(i,i);\n",
    "        endfor\n",
    "        err=norm(x-prev);\n",
    "        if (++steps==max_steps||err<tol)\n",
    "            return;\n",
    "        endif\n",
    "        prev=x;\n",
    "    endwhile     \n",
    "endfunction"
   ]
  },
  {
   "cell_type": "code",
   "execution_count": 7,
   "metadata": {
    "deletable": false,
    "editable": false,
    "nbgrader": {
     "cell_type": "code",
     "checksum": "ec2680c7c260c59c5d9ed8889ee3841a",
     "grade": true,
     "grade_id": "cell-8a4478421d31e72b",
     "locked": true,
     "points": 4,
     "schema_version": 3,
     "solution": false,
     "task": false
    }
   },
   "outputs": [],
   "source": [
    "% Test 1\n",
    "A = [5 2 1 4; 3 5 2 2; 2 1 -5 0; 2 -4 1 3];\n",
    "b = [3 5 1 5]';\n",
    "\n",
    "[x, err, steps] = matrix_Jacobi(A, b, [0 0 0 0]', 1e-5, 100);\n",
    "assert(isequal(x, A\\b, 1e1));\n",
    "assert(steps == 100);\n",
    "[x, err, steps] = Jacobi(A, b, [0 0 0 0]', 1e-5, 100);\n",
    "assert(isequal(x, A\\b, 1e1));\n",
    "assert(steps == 100);\n",
    "[x, err, steps] = matrix_Jacobi(A, b, [0 0 0 0]', 1e-5, 1000);\n",
    "assert(isequal(x, A\\b, 1e-3));\n",
    "assert(steps < 1000);\n",
    "[x, err, steps] = Jacobi(A, b, [0 0 0 0]', 1e-5, 1000);\n",
    "assert(isequal(x, A\\b, 1e-3));\n",
    "assert(steps < 1000);\n",
    "\n",
    "% Test 2\n",
    "A = [1 0 0; 2 8 1; 0 1 8];\n",
    "b = [3 2 1]';\n",
    "\n",
    "[x, err, steps] = matrix_Jacobi(A, b, [0 0 0]', 1e-5, 100);\n",
    "assert(isequal(x, A\\b, 1e-3));\n",
    "assert(steps < 100);\n",
    "[x, err, steps] = Jacobi(A, b, [0 0 0]', 1e-5, 100);\n",
    "assert(isequal(x, A\\b, 1e-3));\n",
    "assert(steps < 100);"
   ]
  },
  {
   "cell_type": "markdown",
   "metadata": {
    "deletable": false,
    "editable": false,
    "nbgrader": {
     "cell_type": "markdown",
     "checksum": "65515ff3dd55190125a1129bf6e7ebd1",
     "grade": false,
     "grade_id": "cell-f0995a5ef87ca916",
     "locked": true,
     "schema_version": 3,
     "solution": false,
     "task": false
    }
   },
   "source": [
    "## Problema 2\n",
    "\n",
    "Implementati functiile ```matrix_GaussSeidel(A, b, x0, tol, max_steps)``` si ```GaussSeidel(A, b, x0, tol, max_steps)``` ce primesc o matrice $A$ patratica, de lungime pozitiva, un vector coloana $b$ de lungimea lui $A$, un vector initial $x_0$, o toleranta sub care se pot opri algoritmii $tol$ si un numar maxim de pasi $max\\_steps$ si returneaza vectorul aproximat dupa $steps$ pasi, $x$, eroarea de la ultimul pas $err$ si numarul de pasi efectuati $steps$."
   ]
  },
  {
   "cell_type": "code",
   "execution_count": 14,
   "metadata": {
    "deletable": false,
    "nbgrader": {
     "cell_type": "code",
     "checksum": "c3b01e7c21313d530c0767cd117b3af3",
     "grade": false,
     "grade_id": "cell-04286c5db66df60a",
     "locked": false,
     "schema_version": 3,
     "solution": true,
     "task": false
    }
   },
   "outputs": [],
   "source": [
    "function [x, err, steps] = matrix_GaussSeidel(A, b, x0, tol, max_steps)\n",
    "    D=diag(diag(A));\n",
    "    [n,n]=size(A);\n",
    "    L=A;\n",
    "    for i=1:n\n",
    "        L(i,i:n)=0;\n",
    "    endfor\n",
    "    N=D+L;\n",
    "    P=(A-N)*(-1);\n",
    "    prev=x0;\n",
    "    steps=0;\n",
    "    invn=inv(N);\n",
    "    G=invn*P;\n",
    "    c=invn*b;\n",
    "    while 1\n",
    "        x=G*prev+c;\n",
    "        err=norm(x-prev);\n",
    "        if (++steps==max_steps||err<tol)\n",
    "            return;\n",
    "        endif\n",
    "        prev=x;\n",
    "    endwhile\n",
    "endfunction\n",
    "\n",
    "function [x, err, steps] = GaussSeidel(A, b, x0, tol, max_steps)\n",
    "   prev=x0;\n",
    "    x=prev;\n",
    "    n=length(x);\n",
    "    steps=0;\n",
    "    while 1\n",
    "        for i=1:n\n",
    "            suma=0;\n",
    "            for j=1:(i-1)\n",
    "                suma=suma+A(i,j)*x(j);\n",
    "            endfor\n",
    "            x(i)=(b(i)-suma-A(i,i+1:n)*prev(i+1:n))/A(i,i);\n",
    "        endfor\n",
    "        err=norm(x-prev);\n",
    "        if (++steps==max_steps||err<tol)\n",
    "            return;\n",
    "        endif\n",
    "        prev=x;\n",
    "    endwhile  \n",
    "endfunction"
   ]
  },
  {
   "cell_type": "code",
   "execution_count": 15,
   "metadata": {
    "deletable": false,
    "editable": false,
    "nbgrader": {
     "cell_type": "code",
     "checksum": "6947ac1d98f57fb1c6bdc37f0419cb99",
     "grade": true,
     "grade_id": "cell-3af93d7c364f0298",
     "locked": true,
     "points": 3,
     "schema_version": 3,
     "solution": false,
     "task": false
    }
   },
   "outputs": [],
   "source": [
    "% Test 1\n",
    "A = [7 6 6 8; 0 9 6 8; 9 7 9 2; 6 0 5 5];\n",
    "b = [3 5 1 5]';\n",
    "\n",
    "[x, err, steps] = matrix_GaussSeidel(A, b, [0 0 0 0]', 1e-5, 50);\n",
    "assert(isequal(x, A\\b, 1e-2));\n",
    "assert(steps == 50);\n",
    "[x, err, steps] = GaussSeidel(A, b, [0 0 0 0]', 1e-5, 50);\n",
    "assert(isequal(x, A\\b, 1e-2));\n",
    "assert(steps == 50);\n",
    "[x, err, steps] = matrix_GaussSeidel(A, b, [0 0 0 0]', 1e-5, 1000);\n",
    "assert(isequal(x, A\\b, 1e-3));\n",
    "assert(steps < 100);\n",
    "[x, err, steps] = GaussSeidel(A, b, [0 0 0 0]', 1e-5, 1000);\n",
    "assert(isequal(x, A\\b, 1e-3));\n",
    "assert(steps < 100);\n",
    "\n",
    "% Test 2\n",
    "A = [5 1 7; 5 9 6; 1 2 6];\n",
    "b = [3 2 1]';\n",
    "\n",
    "[x, err, steps] = matrix_GaussSeidel(A, b, [0 0 0]', 1e-5, 100);\n",
    "assert(isequal(x, A\\b, 1e-3));\n",
    "assert(steps < 50);\n",
    "[x, err, steps] = GaussSeidel(A, b, [0 0 0]', 1e-5, 100);\n",
    "assert(isequal(x, A\\b, 1e-3));\n",
    "assert(steps < 50);"
   ]
  },
  {
   "cell_type": "markdown",
   "metadata": {
    "deletable": false,
    "editable": false,
    "nbgrader": {
     "cell_type": "markdown",
     "checksum": "614d3e0b30a846aedd195fcb05ebcb1b",
     "grade": false,
     "grade_id": "cell-370ddc17fde33f20",
     "locked": true,
     "schema_version": 3,
     "solution": false,
     "task": false
    }
   },
   "source": [
    "## Problema 3\n",
    "\n",
    "Implementati functiile ```matrix_SOR(A, b, x0, tol, max_steps, w)``` si ```SOR(A, b, x0, tol, max_steps, w)``` ce primesc o matrice $A$ patratica, de lungime pozitiva, un vector coloana $b$ de lungimea lui $A$, un vector initial $x_0$, o toleranta sub care se pot opri algoritmii $tol$, un numar maxim de pasi $max\\_steps$ si un factor de relaxare $w$ si returneaza vectorul aproximat dupa $steps$ pasi, $x$, eroarea de la ultimul pas $err$ si numarul de pasi efectuati $steps$."
   ]
  },
  {
   "cell_type": "code",
   "execution_count": 20,
   "metadata": {
    "deletable": false,
    "nbgrader": {
     "cell_type": "code",
     "checksum": "7a74c5ad07e44c9f4dfd9030ccc211c4",
     "grade": false,
     "grade_id": "cell-ca8b3d9a7e89c264",
     "locked": false,
     "schema_version": 3,
     "solution": true,
     "task": false
    }
   },
   "outputs": [],
   "source": [
    "function [x, err, steps] = matrix_SOR(A, b, x0, tol, max_steps, w)\n",
    "   D=diag(diag(A));\n",
    "   [n,n]=size(A);\n",
    "    L=A;\n",
    "    for i=1:n\n",
    "        L(i,i:n)=0;\n",
    "    endfor\n",
    "    N=D+w*L;\n",
    "    P=(1-w)*D-w*(A-D-L);\n",
    "    invn=inv(N);\n",
    "    G=invn*P;\n",
    "    c=w*invn*b;\n",
    "    prev=x0;\n",
    "    steps=0;\n",
    "    while 1\n",
    "        x=G*prev+c;\n",
    "        err=norm(x-prev);\n",
    "        if (++steps==max_steps||err<tol)\n",
    "            return;\n",
    "        endif\n",
    "        prev=x;\n",
    "    endwhile    \n",
    "endfunction\n",
    "\n",
    "function [x, err, steps] = SOR(A, b, x0, tol, max_steps, w)\n",
    "    prev=x0;\n",
    "    x=prev;\n",
    "    n=length(x);\n",
    "    steps=0;\n",
    "    while 1\n",
    "        for i=1:n\n",
    "            suma=0;\n",
    "            for j=1:(i-1)\n",
    "                suma=suma+A(i,j)*x(j);\n",
    "            endfor\n",
    "            x(i)=(1-w)*prev(i)+w*(b(i)-suma-A(i,i+1:n)*prev(i+1:n))/A(i,i);\n",
    "        endfor\n",
    "        err=norm(x-prev);\n",
    "        if (++steps==max_steps||err<tol)\n",
    "            return;\n",
    "        endif\n",
    "        prev=x;\n",
    "    endwhile    \n",
    "endfunction"
   ]
  },
  {
   "cell_type": "code",
   "execution_count": 21,
   "metadata": {
    "deletable": false,
    "editable": false,
    "nbgrader": {
     "cell_type": "code",
     "checksum": "212e051f3b500f0ce81d8d97937ff6a4",
     "grade": true,
     "grade_id": "cell-a83ee586447713ad",
     "locked": true,
     "points": 3,
     "schema_version": 3,
     "solution": false,
     "task": false
    }
   },
   "outputs": [],
   "source": [
    "% Test 1\n",
    "A = [6 4 0 0; 2 9 0 0; 3 3 6 1; 7 1 9 8];\n",
    "b = [3 5 1 5]';\n",
    "\n",
    "[x, err, steps] = matrix_SOR(A, b, [0 0 0 0]', 1e-5, 100, 1.9);\n",
    "assert(isequal(x, A\\b, 1e-2));\n",
    "assert(steps == 100);\n",
    "[x, err, steps] = matrix_SOR(A, b, [0 0 0 0]', 1e-5, 1000, 1.9);\n",
    "assert(isequal(x, A\\b, 1e-3));\n",
    "assert(steps < 150);\n",
    "[x, err, steps] = SOR(A, b, [0 0 0 0]', 1e-5, 100, 1.0519);\n",
    "assert(isequal(x, A\\b, 1e-3));\n",
    "assert(steps < 10);\n",
    "[x, err, steps] = SOR(A, b, [0 0 0 0]', 1e-5, 1000, 1.0519);\n",
    "assert(isequal(x, A\\b, 1e-3));\n",
    "assert(steps < 10);\n",
    "\n",
    "% Test 2\n",
    "A = full(gallery('tridiag', 21, -1, 2, -1));\n",
    "b = rand(21, 1);\n",
    "\n",
    "[x, err, steps] = matrix_SOR(A, b, zeros(21, 1), 1e-5, 1000, 1.750830798);\n",
    "assert(isequal(x, A\\b, 1e-3));\n",
    "assert(steps < 100);\n",
    "\n",
    "[x, err, steps] = SOR(A, b, zeros(21, 1), 1e-5, 1000, 1.750830798);\n",
    "assert(isequal(x, A\\b, 1e-3));\n",
    "assert(steps < 100);"
   ]
  },
  {
   "cell_type": "code",
   "execution_count": null,
   "metadata": {},
   "outputs": [],
   "source": []
  }
 ],
 "metadata": {
  "kernelspec": {
   "display_name": "Octave",
   "language": "octave",
   "name": "octave"
  },
  "language_info": {
   "file_extension": ".m",
   "help_links": [
    {
     "text": "GNU Octave",
     "url": "https://www.gnu.org/software/octave/support.html"
    },
    {
     "text": "Octave Kernel",
     "url": "https://github.com/Calysto/octave_kernel"
    },
    {
     "text": "MetaKernel Magics",
     "url": "https://metakernel.readthedocs.io/en/latest/source/README.html"
    }
   ],
   "mimetype": "text/x-octave",
   "name": "octave",
   "version": "4.2.2"
  }
 },
 "nbformat": 4,
 "nbformat_minor": 4
}
