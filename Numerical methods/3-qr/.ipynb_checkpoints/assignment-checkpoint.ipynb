{
 "cells": [
  {
   "cell_type": "markdown",
   "metadata": {
    "colab_type": "text",
    "id": "qfwr18D50ElC"
   },
   "source": [
    "Inainte sa trimiti notebook-ul:\n",
    "\n",
    "* asigura-te ca totul se executa cum trebuie. Prima oara, **restarteaza kernel-ul** (in meniu, selecteaza Kernel$\\rightarrow$Restart & Run all);\n",
    "\n",
    "* nu lasa niciun mesaj la output (`disp`, `printf`, linii care nu sunt incheiate cu `;`) in functiile pe care le scrii decat daca ti se specifica explicit sa faci acest lucru! Orice abatere va fi **depunctata automat** de grader;\n",
    "\n",
    "* asigura-te ca rezolvi toate celulele in care scrie `YOUR CODE HERE` sau `YOUR ANSWER HERE` si ca iti treci numele mai jos:"
   ]
  },
  {
   "cell_type": "code",
   "execution_count": 1,
   "metadata": {
    "colab": {},
    "colab_type": "code",
    "id": "wvW9zw3_0ElG"
   },
   "outputs": [],
   "source": [
    "STUDENT_NAME = \"Babian Stelian Alexandru\";"
   ]
  },
  {
   "cell_type": "markdown",
   "metadata": {
    "colab_type": "text",
    "id": "WHO8VKkp0ElL"
   },
   "source": [
    "---"
   ]
  },
  {
   "cell_type": "markdown",
   "metadata": {
    "colab_type": "text",
    "deletable": false,
    "editable": false,
    "id": "DSg4EMII0ElM",
    "nbgrader": {
     "cell_type": "markdown",
     "checksum": "b17fd2349b9f4fbc75c7fd682a263c18",
     "grade": false,
     "grade_id": "cell-c0cff62c7b1fdeba",
     "locked": true,
     "schema_version": 3,
     "solution": false,
     "task": false
    }
   },
   "source": [
    "# Laborator 2: Factorizari LU\n",
    "### Autor: Radu Stochitoiu"
   ]
  },
  {
   "cell_type": "markdown",
   "metadata": {
    "colab_type": "text",
    "deletable": false,
    "editable": false,
    "id": "w5D7CqwV0ElN",
    "nbgrader": {
     "cell_type": "markdown",
     "checksum": "c76ac74c1860f2c4c7d084d7e61db9d1",
     "grade": false,
     "grade_id": "cell-a3fd75263f197aba",
     "locked": true,
     "schema_version": 3,
     "solution": false,
     "task": false
    }
   },
   "source": [
    "## Functii ajutatoare    "
   ]
  },
  {
   "cell_type": "code",
   "execution_count": 2,
   "metadata": {
    "colab": {},
    "colab_type": "code",
    "deletable": false,
    "editable": false,
    "id": "jkEL_g6a0ElO",
    "nbgrader": {
     "cell_type": "code",
     "checksum": "30e070e7a80767945230d80b4c2c84ec",
     "grade": false,
     "grade_id": "cell-ebc07a0ed9284ef0",
     "locked": true,
     "schema_version": 3,
     "solution": false,
     "task": false
    }
   },
   "outputs": [
    {
     "ename": "IndentationError",
     "evalue": "unexpected indent (<ipython-input-2-36c158b77cb2>, line 2)",
     "output_type": "error",
     "traceback": [
      "\u001b[0;36m  File \u001b[0;32m\"<ipython-input-2-36c158b77cb2>\"\u001b[0;36m, line \u001b[0;32m2\u001b[0m\n\u001b[0;31m    res = norm(A - B) < 1e-8;\u001b[0m\n\u001b[0m    ^\u001b[0m\n\u001b[0;31mIndentationError\u001b[0m\u001b[0;31m:\u001b[0m unexpected indent\n"
     ]
    }
   ],
   "source": [
    "function [res] = isequal(A, B)\n",
    "    res = norm(A - B) < 1e-8;\n",
    "endfunction\n",
    "\n",
    "function [A] = generatePosDefMat(n)\n",
    "    Q = orth(randn(n));\n",
    "    D = diag(abs(randn(n, 1)) + 17);\n",
    "    A = Q * D * Q';\n",
    "endfunction"
   ]
  },
  {
   "cell_type": "markdown",
   "metadata": {
    "colab_type": "text",
    "deletable": false,
    "editable": false,
    "id": "3cguYEeh0ElR",
    "nbgrader": {
     "cell_type": "markdown",
     "checksum": "617fc9926a1ffb5e2b6053a63ea4e777",
     "grade": false,
     "grade_id": "cell-1f0c2b8683d6ffbf",
     "locked": true,
     "schema_version": 3,
     "solution": false,
     "task": false
    }
   },
   "source": [
    "## Problema 1\n",
    "\n",
    "Implementati functia ```SST(A, b)``` ce primeste ca parametri o matrice patratica superior triunghiulara A si un vector b, de lungimi egale si pozitive, si returneaza solutia sistemului $Ax = b$."
   ]
  },
  {
   "cell_type": "code",
   "execution_count": null,
   "metadata": {
    "colab": {},
    "colab_type": "code",
    "deletable": false,
    "id": "tumidf8i0ElS",
    "nbgrader": {
     "cell_type": "code",
     "checksum": "b372ed5d0db591b09855408198c7ef40",
     "grade": false,
     "grade_id": "cell-93d8bb743bab534c",
     "locked": false,
     "schema_version": 3,
     "solution": true,
     "task": false
    }
   },
   "outputs": [],
   "source": [
    "% HINT: Pentru a initializa un vector cu o lungime specifica, puteti folosi functia `zeros`.\n",
    "\n",
    "function [x] = SST(A, b)\n",
    "n=length(b);\n",
    "x=zeros(n,1);\n",
    "x(n)=b(n)/A(n,n);\n",
    "for i=n-1:-1:1\n",
    "    s=0;\n",
    "    for j=i+1:n\n",
    "        s=s+A(i,j)*x(j);\n",
    "    end\n",
    "    x(i)=(b(i)-s)/A(i,i);\n",
    "end\n",
    "endfunction"
   ]
  },
  {
   "cell_type": "code",
   "execution_count": null,
   "metadata": {
    "colab": {},
    "colab_type": "code",
    "deletable": false,
    "editable": false,
    "id": "9ey3Ukf90ElV",
    "nbgrader": {
     "cell_type": "code",
     "checksum": "6d38246004943bb63732358ef272eb1f",
     "grade": true,
     "grade_id": "cell-d3547dc5e2f57a68",
     "locked": true,
     "points": 2,
     "schema_version": 3,
     "solution": false,
     "task": false
    }
   },
   "outputs": [],
   "source": [
    "A_one_elem = [5];\n",
    "A_handmade = [1 2 3; 0 1 1; 0 0 1];\n",
    "aux = rand(3); A_rand3 = triu(aux * aux');\n",
    "aux = rand(10); A_rand10 = triu(aux * aux');\n",
    "aux = rand(100); A_rand100 = triu(aux * aux');\n",
    "\n",
    "b_one_elem = [10];\n",
    "b_handmade = [7 2 1]';\n",
    "b_rand3 = rand(3, 1);\n",
    "b_rand10 = rand(10, 1);\n",
    "b_rand100 = rand(100, 1);\n",
    "\n",
    "assert(isequal(SST(A_one_elem, b_one_elem), A_one_elem \\ b_one_elem));\n",
    "assert(isequal(SST(A_handmade, b_handmade), A_handmade \\ b_handmade));\n",
    "assert(isequal(SST(A_rand3, b_rand3), A_rand3 \\ b_rand3));\n",
    "assert(isequal(SST(A_rand10, b_rand10), A_rand10 \\ b_rand10));\n",
    "assert(isequal(SST(A_rand100, b_rand100), A_rand100 \\ b_rand100));"
   ]
  },
  {
   "cell_type": "markdown",
   "metadata": {
    "colab_type": "text",
    "deletable": false,
    "editable": false,
    "id": "c_XwstaR0ElY",
    "nbgrader": {
     "cell_type": "markdown",
     "checksum": "be073d1c445bee507b18ae585096a97f",
     "grade": false,
     "grade_id": "cell-0f1b7ed249b08005",
     "locked": true,
     "schema_version": 3,
     "solution": false,
     "task": false
    }
   },
   "source": [
    "## Problema 2\n",
    "\n",
    "Implementati functia ```SIT(A, b)``` ce primeste ca parametri o matrice patratica inferior triunghiulara A si un vector b, de lungimi egale si pozitive, si returneaza solutia sistemului $Ax = b$."
   ]
  },
  {
   "cell_type": "code",
   "execution_count": null,
   "metadata": {
    "colab": {},
    "colab_type": "code",
    "deletable": false,
    "id": "3LW14NrK0ElZ",
    "nbgrader": {
     "cell_type": "code",
     "checksum": "625f091fd65e954385923bbcdea0b5e4",
     "grade": false,
     "grade_id": "cell-657568a1bea4abde",
     "locked": false,
     "schema_version": 3,
     "solution": true,
     "task": false
    }
   },
   "outputs": [],
   "source": [
    "function [x] = SIT(A, b)\n",
    "x=[];\n",
    "n=length(b);\n",
    "for i=1:n\n",
    "    s=0;\n",
    "    for j=1:i-1\n",
    "        s=s+A(i,j)*x(j);\n",
    "    end\n",
    "    x=[x;(b(i)-s)/A(i,i)];\n",
    "end\n",
    "endfunction"
   ]
  },
  {
   "cell_type": "code",
   "execution_count": null,
   "metadata": {
    "colab": {},
    "colab_type": "code",
    "deletable": false,
    "editable": false,
    "id": "8OBslKXZ0Elc",
    "nbgrader": {
     "cell_type": "code",
     "checksum": "fe639a673469315c0cfdc81857862257",
     "grade": true,
     "grade_id": "cell-224549063e9c8a5c",
     "locked": true,
     "points": 2,
     "schema_version": 3,
     "solution": false,
     "task": false
    }
   },
   "outputs": [],
   "source": [
    "A_one_elem = [5];\n",
    "A_handmade = [1 0 0; 2 1 0; 3 1 1];\n",
    "aux = rand(3); A_rand3 = tril(aux * aux');\n",
    "aux = rand(10); A_rand10 = tril(aux * aux');\n",
    "aux = rand(100); A_rand100 = tril(aux * aux');\n",
    "\n",
    "b_one_elem = [10];\n",
    "b_handmade = [7 2 1]';\n",
    "b_rand3 = rand(3, 1);\n",
    "b_rand10 = rand(10, 1);\n",
    "b_rand100 = rand(100, 1);\n",
    "\n",
    "assert(isequal(SIT(A_one_elem, b_one_elem), A_one_elem \\ b_one_elem));\n",
    "assert(isequal(SIT(A_handmade, b_handmade), A_handmade \\ b_handmade));\n",
    "assert(isequal(SIT(A_rand3, b_rand3), A_rand3 \\ b_rand3));\n",
    "assert(isequal(SIT(A_rand10, b_rand10), A_rand10 \\ b_rand10));\n",
    "assert(isequal(SIT(A_rand100, b_rand100), A_rand100 \\ b_rand100));"
   ]
  },
  {
   "cell_type": "markdown",
   "metadata": {
    "colab_type": "text",
    "deletable": false,
    "editable": false,
    "id": "7fgYBFeX0Ele",
    "nbgrader": {
     "cell_type": "markdown",
     "checksum": "ff37f412b073ebe6ecc0e9e7116bfbc0",
     "grade": false,
     "grade_id": "cell-19f895ab29f974c1",
     "locked": true,
     "schema_version": 3,
     "solution": false,
     "task": false
    }
   },
   "source": [
    "## Problema 3\n",
    "\n",
    "Implementati functia ```Crout(A)``` ce primeste ca parametru o matrice patratica $A$ de lungime pozitiva si returneaza cele doua matrici $L$ si $U$ in care se descompune matricea $A$."
   ]
  },
  {
   "cell_type": "code",
   "execution_count": 3,
   "metadata": {
    "colab": {},
    "colab_type": "code",
    "deletable": false,
    "id": "dAfxqjra0Elf",
    "nbgrader": {
     "cell_type": "code",
     "checksum": "a56870b3ecf01a608cad6df6722ed92e",
     "grade": false,
     "grade_id": "cell-1b67c8fcd901e9e4",
     "locked": false,
     "schema_version": 3,
     "solution": true,
     "task": false
    }
   },
   "outputs": [
    {
     "ename": "SyntaxError",
     "evalue": "invalid syntax (<ipython-input-3-e993e254ef5a>, line 7)",
     "output_type": "error",
     "traceback": [
      "\u001b[0;36m  File \u001b[0;32m\"<ipython-input-3-e993e254ef5a>\"\u001b[0;36m, line \u001b[0;32m7\u001b[0m\n\u001b[0;31m    for i = 1:nl\u001b[0m\n\u001b[0m          ^\u001b[0m\n\u001b[0;31mSyntaxError\u001b[0m\u001b[0;31m:\u001b[0m invalid syntax\n"
     ]
    }
   ],
   "source": [
    "% HINT: Pentru a initializa o matrice cu dimensiuni specifice, puteti folosi functiile `zeros` sau `eye`.\n",
    "\n",
    "function [L, U] = Crout(A)\n",
    "[nl,nc]=size(A);\n",
    "L=zeros(nl);\n",
    "U=eye(nl);\n",
    "for i = 1:nl\n",
    "    L(i,1)=A(i,1);\n",
    "end\n",
    "for j = 2:nl\n",
    "    U(1,j)=A(1,j)/L(1,1);\n",
    "end\n",
    "for i = 2:nl\n",
    "    for j = 2:i\n",
    "        L(i,j)=A(i,j)-L(i,1:j-1)*U(1:j-1,j);\n",
    "    end\n",
    "    for j = i+1:nl\n",
    "        U(i,j)=(A(i,j)-L(i,1:i-1)*U(1:i-1,j))/L(i,i);\n",
    "    end\n",
    "end \n",
    "endfunction"
   ]
  },
  {
   "cell_type": "code",
   "execution_count": null,
   "metadata": {
    "colab": {},
    "colab_type": "code",
    "deletable": false,
    "editable": false,
    "id": "m9gFeFWD0Elh",
    "nbgrader": {
     "cell_type": "code",
     "checksum": "c42493ad1918c31ebcfe2d44f5337b9b",
     "grade": true,
     "grade_id": "cell-a7748a9190bcdb0f",
     "locked": true,
     "points": 2,
     "schema_version": 3,
     "solution": false,
     "task": false
    }
   },
   "outputs": [],
   "source": [
    "A_one_elem = [5];\n",
    "A_handmade = [1 2 2; 2 5 7; 3 9 17];\n",
    "aux = rand(3); A_rand3 = aux * aux';\n",
    "aux = rand(10); A_rand10 = aux * aux';\n",
    "\n",
    "[L, U] = Crout(A_one_elem);\n",
    "assert(isequal(L * U, A_one_elem));\n",
    "assert(istriu(U));\n",
    "assert(istril(L));\n",
    "assert(sum(diag(U) == 1) == 1);\n",
    "\n",
    "[L, U] = Crout(A_handmade);\n",
    "assert(isequal(L * U, A_handmade));\n",
    "assert(istriu(U));\n",
    "assert(istril(L));\n",
    "assert(sum(diag(U) == 1) == 3);\n",
    "\n",
    "[L, U] = Crout(A_rand3);\n",
    "assert(isequal(L * U, A_rand3));\n",
    "assert(istriu(U));\n",
    "assert(istril(L));\n",
    "assert(sum(diag(U) == 1) == 3);\n",
    "\n",
    "[L, U] = Crout(A_rand10);\n",
    "assert(isequal(L * U, A_rand10));\n",
    "assert(istriu(U));\n",
    "assert(istril(L));\n",
    "assert(sum(diag(U) == 1) == 10);"
   ]
  },
  {
   "cell_type": "markdown",
   "metadata": {
    "colab_type": "text",
    "deletable": false,
    "editable": false,
    "id": "rscYRtm00Elk",
    "nbgrader": {
     "cell_type": "markdown",
     "checksum": "b6fc253e2130d854e9f3b3c3dd8c68cf",
     "grade": false,
     "grade_id": "cell-0ef8baaaad32a2c8",
     "locked": true,
     "schema_version": 3,
     "solution": false,
     "task": false
    }
   },
   "source": [
    "## Problema 4\n",
    "\n",
    "Implementati functia ```Doolittle(A)``` ce primeste ca parametru o matrice patratica $A$ de lungime pozitiva si returneaza cele doua matrici $L$ si $U$ in care se descompune matricea $A$."
   ]
  },
  {
   "cell_type": "code",
   "execution_count": null,
   "metadata": {
    "colab": {},
    "colab_type": "code",
    "deletable": false,
    "id": "Uy7LQ-540Ell",
    "nbgrader": {
     "cell_type": "code",
     "checksum": "e41b2da5ae5525ce2ae9c717728b849d",
     "grade": false,
     "grade_id": "cell-c98dbd451d1a7cdb",
     "locked": false,
     "schema_version": 3,
     "solution": true,
     "task": false
    }
   },
   "outputs": [],
   "source": [
    "% HINT: Pentru a initializa o matrice cu dimensiuni specifice, puteti folosi functiile `zeros` sau `eye`.\n",
    "\n",
    "function [L, U] = Doolittle(A)\n",
    "[nl,nc]=size(A);\n",
    "L=eye(nl);\n",
    "U=zeros(nl);\n",
    "for i=1:nl\n",
    "    U(1,i)=A(1,i);\n",
    "end\n",
    "for j=2:nl\n",
    "    L(j,1)=A(j,1)/U(1,1);\n",
    "end\n",
    "\n",
    "endfunction"
   ]
  },
  {
   "cell_type": "code",
   "execution_count": null,
   "metadata": {
    "colab": {},
    "colab_type": "code",
    "deletable": false,
    "editable": false,
    "id": "1JmhdiWz0Eln",
    "nbgrader": {
     "cell_type": "code",
     "checksum": "98ecbacd0f1620b48acd287b7337d523",
     "grade": true,
     "grade_id": "cell-8691b7714ff7a08c",
     "locked": true,
     "points": 2,
     "schema_version": 3,
     "solution": false,
     "task": false
    }
   },
   "outputs": [],
   "source": [
    "A_one_elem = [5];\n",
    "A_handmade = [2 3 3; 4 11 25; 6 29 86];\n",
    "aux = rand(3); A_rand3 = aux * aux';\n",
    "aux = rand(10); A_rand10 = aux * aux';\n",
    "\n",
    "[L, U] = Doolittle(A_one_elem);\n",
    "assert(isequal(L * U, A_one_elem));\n",
    "assert(istriu(U));\n",
    "assert(istril(L));\n",
    "assert(sum(diag(L) == 1) == 1);\n",
    "\n",
    "[L, U] = Doolittle(A_handmade);\n",
    "assert(isequal(L * U, A_handmade));\n",
    "assert(istriu(U));\n",
    "assert(istril(L));\n",
    "assert(sum(diag(L) == 1) == 3);\n",
    "\n",
    "[L, U] = Doolittle(A_rand3);\n",
    "assert(isequal(L * U, A_rand3));\n",
    "assert(istriu(U));\n",
    "assert(istril(L));\n",
    "assert(sum(diag(L) == 1) == 3);\n",
    "\n",
    "[L, U] = Doolittle(A_rand10);\n",
    "assert(isequal(L * U, A_rand10));\n",
    "assert(istriu(U));\n",
    "assert(istril(L));\n",
    "assert(sum(diag(L) == 1) == 10);"
   ]
  },
  {
   "cell_type": "markdown",
   "metadata": {
    "colab_type": "text",
    "deletable": false,
    "editable": false,
    "id": "c93IKCLl0Elp",
    "nbgrader": {
     "cell_type": "markdown",
     "checksum": "e01855fbd6f73d9d0d1a7d3cafbc0c6d",
     "grade": false,
     "grade_id": "cell-57e4844d50a75e01",
     "locked": true,
     "schema_version": 3,
     "solution": false,
     "task": false
    }
   },
   "source": [
    "## Problema 5\n",
    "\n",
    "Implementati functia ```Cholesky(A)``` ce primeste ca parametru o matrice patratica $A$ de lungime pozitiva si returneaza matricea $L$ in care se descompune matricea $A$. In cazul in care matricea $A$ nu este potrivita pentru aplicarea algoritmului Cholesky, se va returna ```NaN``` pentru $L$."
   ]
  },
  {
   "cell_type": "code",
   "execution_count": null,
   "metadata": {
    "colab": {},
    "colab_type": "code",
    "deletable": false,
    "id": "6sdp7iqH0Elq",
    "nbgrader": {
     "cell_type": "code",
     "checksum": "f9e44c7b2a046879a12bdad2f8c8bac7",
     "grade": false,
     "grade_id": "cell-365321778b3a1ee6",
     "locked": false,
     "schema_version": 3,
     "solution": true,
     "task": false
    }
   },
   "outputs": [],
   "source": [
    "% HINT: Pentru a initializa o matrice cu dimensiuni specifice, puteti folosi functia `zeros`.\n",
    "% Pentru a opri fortat o functie puteti folosi `return;`.\n",
    "\n",
    "function [L] = Cholesky(A)\n",
    "% YOUR CODE HERE\n",
    "error('No Answer Given!')\n",
    "endfunction"
   ]
  },
  {
   "cell_type": "code",
   "execution_count": null,
   "metadata": {
    "colab": {},
    "colab_type": "code",
    "deletable": false,
    "editable": false,
    "id": "JmA1-AdA0Els",
    "nbgrader": {
     "cell_type": "code",
     "checksum": "83b7835733106dd47cc97c04851c34e0",
     "grade": true,
     "grade_id": "cell-695e5ae689d4552b",
     "locked": true,
     "points": 2,
     "schema_version": 3,
     "solution": false,
     "task": false
    }
   },
   "outputs": [],
   "source": [
    "A_one_elem = [5];\n",
    "A_handmade = [4 4 6; 4 41 33; 6 33 99];\n",
    "A_not_sym = [4 4 6; 4 41 33; 6 100 99];\n",
    "A_rand3 = generatePosDefMat(3);\n",
    "A_rand10 = generatePosDefMat(10);\n",
    "A_not_pos_def = [1 0.8 -0.8; 0.8 1 0.8; -0.8 0.8 0.01];\n",
    "\n",
    "[L] = Cholesky(A_one_elem);\n",
    "assert(isequal(L * L', A_one_elem));\n",
    "assert(istril(L));\n",
    "\n",
    "[L] = Cholesky(A_handmade);\n",
    "assert(isequal(L * L', A_handmade));\n",
    "assert(istril(L));\n",
    "\n",
    "[L] = Cholesky(A_not_sym);\n",
    "assert(isnan(L));\n",
    "\n",
    "[L] = Cholesky(A_rand3);\n",
    "assert(isequal(L * L', A_rand3));\n",
    "assert(istril(L));\n",
    "\n",
    "[L] = Cholesky(A_rand10);\n",
    "assert(isequal(L * L', A_rand10));\n",
    "assert(istril(L));\n",
    "\n",
    "[L] = Cholesky(A_not_pos_def);\n",
    "assert(isnan(L));"
   ]
  }
 ],
 "metadata": {
  "colab": {
   "name": "assignment.ipynb",
   "provenance": []
  },
  "kernelspec": {
   "display_name": "Python 3",
   "language": "python",
   "name": "python3"
  },
  "language_info": {
   "codemirror_mode": {
    "name": "ipython",
    "version": 3
   },
   "file_extension": ".py",
   "mimetype": "text/x-python",
   "name": "python",
   "nbconvert_exporter": "python",
   "pygments_lexer": "ipython3",
   "version": "3.7.6"
  }
 },
 "nbformat": 4,
 "nbformat_minor": 1
}
