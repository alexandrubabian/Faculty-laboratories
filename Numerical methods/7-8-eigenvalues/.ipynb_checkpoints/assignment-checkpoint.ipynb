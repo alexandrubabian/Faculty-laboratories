{
 "cells": [
  {
   "cell_type": "markdown",
   "metadata": {},
   "source": [
    "Inainte sa trimiti notebook-ul:\n",
    "\n",
    "* asigura-te ca totul se executa cum trebuie. Prima oara, **restarteaza kernel-ul** (in meniu, selecteaza Kernel$\\rightarrow$Restart & Run all);\n",
    "\n",
    "* nu lasa niciun mesaj la output (`disp`, `printf`, linii care nu sunt incheiate cu `;`) in functiile pe care le scrii decat daca ti se specifica explicit sa faci acest lucru! Orice abatere va fi **depunctata automat** de grader;\n",
    "\n",
    "* citeste instructiunile de [aici](https://github.com/radusqrt/numerical-methods/blob/master/lab_instructions.md) cu atentie;\n",
    "\n",
    "* asigura-te ca rezolvi toate celulele in care scrie `YOUR CODE HERE` sau `YOUR ANSWER HERE` si ca iti treci numele mai jos:"
   ]
  },
  {
   "cell_type": "code",
   "execution_count": null,
   "metadata": {},
   "outputs": [],
   "source": [
    "STUDENT_NAME = \"Babian Stelian Alexandru\";"
   ]
  },
  {
   "cell_type": "markdown",
   "metadata": {},
   "source": [
    "---"
   ]
  },
  {
   "cell_type": "markdown",
   "metadata": {
    "deletable": false,
    "editable": false,
    "nbgrader": {
     "cell_type": "markdown",
     "checksum": "f0694e59cca1c28620e29958f8f72e7a",
     "grade": false,
     "grade_id": "cell-1383f452604af57b",
     "locked": true,
     "schema_version": 3,
     "solution": false,
     "task": false
    }
   },
   "source": [
    "# Laborator 7-8: Aflarea valorilor si vectorilor proprii\n",
    "### Autor: Radu Stochitoiu"
   ]
  },
  {
   "cell_type": "markdown",
   "metadata": {
    "deletable": false,
    "editable": false,
    "nbgrader": {
     "cell_type": "markdown",
     "checksum": "e2d3c326a114a97d6e3fd7aeb6fee1ff",
     "grade": false,
     "grade_id": "cell-6e40243755d9ab77",
     "locked": true,
     "schema_version": 3,
     "solution": false,
     "task": false
    }
   },
   "source": [
    "## Problema 1\n",
    "\n",
    "Implementati funcția ```power_method(A, x0, tol, max_steps)``` ce primește o matrice pătratică $A$, o aproximare ințială a vectorului propriu domninant $x_0$, o toleranță sub care se poate opri algoritmul $tol$ și un număr maxim de pași $max\\_steps$ și returnează o valoarea proprie dominantă a matricei $A$, $lambda$, un vector propriu normat asociat valorii proprii $lambda$, $x$, eroarea de la ultimul pas $err$ și numărul de pași efectuați $steps$.\n",
    "\n",
    "Eroarea de la fiecare pas se calculează în funcție de vectorul propriu aproximat, nu de valoarea proprie aproximată."
   ]
  },
  {
   "cell_type": "code",
   "execution_count": 1,
   "metadata": {
    "deletable": false,
    "nbgrader": {
     "cell_type": "code",
     "checksum": "97ea94dc45e63b4b7b695908447320b6",
     "grade": false,
     "grade_id": "cell-82eacb35e4df3e68",
     "locked": false,
     "schema_version": 3,
     "solution": true,
     "task": false
    }
   },
   "outputs": [],
   "source": [
    "function [lambda, x, err, steps] = power_method(A, x0, tol, max_steps)\n",
    "   steps=0;\n",
    "   prev_x=x0;\n",
    "   while 1\n",
    "       x=A*prev_x;\n",
    "       x=x/norm(x);\n",
    "       lambda=x'*A*x;\n",
    "       err=norm(x-prev_x);\n",
    "       if(++steps==max_steps)||err<tol\n",
    "           return;\n",
    "        endif\n",
    "        prev_x=x;\n",
    "    endwhile\n",
    "endfunction"
   ]
  },
  {
   "cell_type": "code",
   "execution_count": 2,
   "metadata": {
    "deletable": false,
    "editable": false,
    "nbgrader": {
     "cell_type": "code",
     "checksum": "4bf948224e03b03c62e4052e99608bae",
     "grade": true,
     "grade_id": "cell-1851b004d61afd21",
     "locked": true,
     "points": 3,
     "schema_version": 3,
     "solution": false,
     "task": false
    }
   },
   "outputs": [],
   "source": [
    "% Test 1\n",
    "do\n",
    "    A = rand(3);\n",
    "until max(abs(imag(eig(A)))) < eps;\n",
    "[lambda, x, err, steps] = power_method(A, rand(length(A), 1), 1e-8, 100);\n",
    "assert(norm(lambda * x - A * x) < 1e-4);\n",
    "assert(norm(abs(lambda) - max(abs(eig(A)))) < 1e-4);\n",
    "\n",
    "% Test 2\n",
    "do\n",
    "    A = rand(4);\n",
    "until max(abs(imag(eig(A)))) < eps;\n",
    "[lambda, x, err, steps] = power_method(A, rand(length(A), 1), 1e-8, 100);\n",
    "assert(norm(lambda * x - A * x) < 1e-4);\n",
    "assert(norm(abs(lambda) - max(abs(eig(A)))) < 1e-4);\n",
    "\n",
    "% Test 3\n",
    "do\n",
    "    A = rand(5);\n",
    "until max(abs(imag(eig(A)))) < eps;\n",
    "[lambda, x, err, steps] = power_method(A, rand(length(A), 1), 1e-8, 100);\n",
    "assert(norm(lambda * x - A * x) < 1e-4);\n",
    "assert(norm(abs(lambda) - max(abs(eig(A)))) < 1e-4);\n",
    "\n",
    "% Test 4\n",
    "do\n",
    "    A = rand(6);\n",
    "until max(abs(imag(eig(A)))) < eps;\n",
    "[lambda, x, err, steps] = power_method(A, rand(length(A), 1), 1e-8, 100);\n",
    "assert(norm(lambda * x - A * x) < 1e-4);\n",
    "assert(norm(abs(lambda) - max(abs(eig(A)))) < 1e-4);"
   ]
  },
  {
   "cell_type": "markdown",
   "metadata": {
    "deletable": false,
    "editable": false,
    "nbgrader": {
     "cell_type": "markdown",
     "checksum": "347664bea21df9d5352ef47caf1052cb",
     "grade": false,
     "grade_id": "cell-e5e7e33f30f49b5c",
     "locked": true,
     "schema_version": 3,
     "solution": false,
     "task": false
    }
   },
   "source": [
    "## Problema 2\n",
    "\n",
    "Implementati funcția ```i_power_method(A, x0, tol, max_steps)``` ce primește o matrice pătratică $A$, o aproximare ințială a vectorului propriu cel mai puțin domninant $x_0$, o toleranță sub care se poate opri algoritmul $tol$ și un număr maxim de pași $max\\_steps$ și returnează o valoarea proprie cel mai puțin dominantă a matricei $A$, $lambda$, un vector propriu normat asociat valorii proprii $lambda$, $x$, eroarea de la ultimul pas $err$ și numărul de pași efectuați $steps$.\n",
    "\n",
    "Eroarea de la fiecare pas se calculează în funcție de vectorul propriu aproximat, nu de valoarea proprie aproximată.\n",
    "\n",
    "Puteți folosi operatorul \\\\."
   ]
  },
  {
   "cell_type": "code",
   "execution_count": 5,
   "metadata": {
    "deletable": false,
    "nbgrader": {
     "cell_type": "code",
     "checksum": "041abca68b48239c8d7f081b1f39f1ae",
     "grade": false,
     "grade_id": "cell-41090bd1c4ed1005",
     "locked": false,
     "schema_version": 3,
     "solution": true,
     "task": false
    }
   },
   "outputs": [],
   "source": [
    "function [lambda, x, err, steps] = i_power_method(A, x0, tol, max_steps)\n",
    "    steps=0;\n",
    "    prev_x=x0;\n",
    "    while 1\n",
    "        invA=inv(A);\n",
    "        x=invA*prev_x;\n",
    "        x=x/norm(x);\n",
    "        lambda=x'*A*x;\n",
    "        err=norm(x-prev_x);\n",
    "        if(++steps==max_steps)||err<tol\n",
    "            return;\n",
    "        endif\n",
    "        prev_x=x;\n",
    "    endwhile\n",
    "endfunction"
   ]
  },
  {
   "cell_type": "code",
   "execution_count": 6,
   "metadata": {
    "deletable": false,
    "editable": false,
    "nbgrader": {
     "cell_type": "code",
     "checksum": "663171a078f9eabea362d3b535baa927",
     "grade": true,
     "grade_id": "cell-b1c98ad65494eff0",
     "locked": true,
     "points": 3,
     "schema_version": 3,
     "solution": false,
     "task": false
    }
   },
   "outputs": [],
   "source": [
    "% Test 1\n",
    "do\n",
    "    A = rand(3);\n",
    "until max(abs(imag(eig(A)))) < eps;\n",
    "[lambda, x, err, steps] = i_power_method(A, rand(length(A), 1), 1e-8, 100);\n",
    "assert(norm(lambda * x - A * x) < 1e-4);\n",
    "assert(norm(abs(lambda) - min(abs(eig(A)))) < 1e-4);\n",
    "\n",
    "% Test 2\n",
    "do\n",
    "    A = rand(4);\n",
    "until max(abs(imag(eig(A)))) < eps;\n",
    "[lambda, x, err, steps] = i_power_method(A, rand(length(A), 1), 1e-8, 100);\n",
    "assert(norm(lambda * x - A * x) < 1e-4);\n",
    "assert(norm(abs(lambda) - min(abs(eig(A)))) < 1e-4);\n",
    "\n",
    "% Test 3\n",
    "do\n",
    "    A = rand(5);\n",
    "until max(abs(imag(eig(A)))) < eps;\n",
    "[lambda, x, err, steps] = i_power_method(A, rand(length(A), 1), 1e-8, 100);\n",
    "assert(norm(lambda * x - A * x) < 1e-4);\n",
    "assert(norm(abs(lambda) - min(abs(eig(A)))) < 1e-4);\n",
    "\n",
    "% Test 4\n",
    "do\n",
    "    A = rand(6);\n",
    "until max(abs(imag(eig(A)))) < eps;\n",
    "[lambda, x, err, steps] = i_power_method(A, rand(length(A), 1), 1e-8, 100);\n",
    "assert(norm(lambda * x - A * x) < 1e-4);\n",
    "assert(norm(abs(lambda) - min(abs(eig(A)))) < 1e-4);"
   ]
  },
  {
   "cell_type": "markdown",
   "metadata": {
    "deletable": false,
    "editable": false,
    "nbgrader": {
     "cell_type": "markdown",
     "checksum": "adda6edcf15d0f366eab5388ca55b4e7",
     "grade": false,
     "grade_id": "cell-bfdb858d2c8b2737",
     "locked": true,
     "schema_version": 3,
     "solution": false,
     "task": false
    }
   },
   "source": [
    "## Problema 3\n",
    "\n",
    "Implementati funcția ```s_i_power_method(A, x0, tol, max_steps)``` ce primește o matrice pătratică $A$, o aproximare ințială a unui vector propriu $x_0$, o toleranță sub care se poate opri algoritmul $tol$, un număr maxim de pași $max\\_steps$ și o valoare $alfa$ și returnează o valoarea proprie a matricei $A$ care este cea mai apropiată de $alfa$, $lambda$, un vector propriu normat asociat valorii proprii $lambda$, $x$, eroarea de la ultimul pas $err$ și numărul de pași efectuați $steps$.\n",
    "\n",
    "Eroarea de la fiecare pas se calculează în funcție de vectorul propriu aproximat, nu de valoarea proprie aproximată.\n",
    "\n",
    "Puteți folosi operatorul \\\\.\n",
    "\n",
    "Nu se va folosi câtul Rayleigh întrucât ajungând prea repede la soluție, este greu de evaluat, matricile devenind singulare."
   ]
  },
  {
   "cell_type": "code",
   "execution_count": 9,
   "metadata": {
    "deletable": false,
    "nbgrader": {
     "cell_type": "code",
     "checksum": "588a04d14bcde39fe36388f131fef5e8",
     "grade": false,
     "grade_id": "cell-68966d23ba29ce42",
     "locked": false,
     "schema_version": 3,
     "solution": true,
     "task": false
    }
   },
   "outputs": [],
   "source": [
    "function [lambda, x, err, steps] = s_i_power_method(A, x0, tol, max_steps, alfa)\n",
    "    steps=0;\n",
    "    prev_x=x0;\n",
    "    [n,n]=size(A);\n",
    "    I=eye(n);\n",
    "    noulA=A-alfa*I;\n",
    "    while 1\n",
    "        invA=inv(noulA);\n",
    "        x=invA*prev_x;\n",
    "        %norm(x);\n",
    "        lambda=x'*noulA*x;\n",
    "        err=norm(x-prev_x);\n",
    "        if(++steps==max_steps)||err<tol\n",
    "            return;\n",
    "        endif\n",
    "        prev_x=x;\n",
    "    endwhile\n",
    "endfunction"
   ]
  },
  {
   "cell_type": "code",
   "execution_count": 10,
   "metadata": {
    "deletable": false,
    "editable": false,
    "nbgrader": {
     "cell_type": "code",
     "checksum": "4db6838e063b90a5a0a5ba5f1b932f2a",
     "grade": true,
     "grade_id": "cell-b47151dd04879aeb",
     "locked": true,
     "points": 3,
     "schema_version": 3,
     "solution": false,
     "task": false
    }
   },
   "outputs": [
    {
     "name": "stdout",
     "output_type": "stream",
     "text": [
      "error: assert (norm (lambda * x - A * x) < 1e-4) failed\n",
      "error: called from\n",
      "    assert at line 92 column 11\n",
      "error: assert (norm (lambda - eig (A) (alfa_ind)) < 1e-4) failed\n",
      "error: called from\n",
      "    assert at line 92 column 11\n",
      "error: assert (norm (lambda * x - A * x) < 1e-4) failed\n",
      "error: called from\n",
      "    assert at line 92 column 11\n",
      "error: assert (norm (lambda - eig (A) (alfa_ind)) < 1e-4) failed\n",
      "error: called from\n",
      "    assert at line 92 column 11\n",
      "error: assert (norm (lambda * x - A * x) < 1e-4) failed\n",
      "error: called from\n",
      "    assert at line 92 column 11\n",
      "error: assert (norm (lambda - eig (A) (alfa_ind)) < 1e-4) failed\n",
      "error: called from\n",
      "    assert at line 92 column 11\n",
      "error: assert (norm (lambda * x - A * x) < 1e-4) failed\n",
      "error: called from\n",
      "    assert at line 92 column 11\n",
      "error: assert (norm (lambda - eig (A) (alfa_ind)) < 1e-4) failed\n",
      "error: called from\n",
      "    assert at line 92 column 11\n"
     ]
    }
   ],
   "source": [
    "% Test 1\n",
    "do\n",
    "    A = rand(3);\n",
    "until max(abs(imag(eig(A)))) < eps;\n",
    "alfa_ind = randi(length(eig(A)));\n",
    "alfa = eig(A)(alfa_ind) + rand() * 1e-1;\n",
    "[lambda, x, err, steps] = s_i_power_method(A, rand(length(A), 1), 1e-8, 500, alfa);\n",
    "assert(norm(lambda * x - A * x) < 1e-4);\n",
    "assert(norm(lambda - eig(A)(alfa_ind)) < 1e-4);\n",
    "assert(norm(norm(x) - 1) < 1e-4);\n",
    "\n",
    "% Test 2\n",
    "do\n",
    "    A = rand(4);\n",
    "until max(abs(imag(eig(A)))) < eps;\n",
    "alfa_ind = randi(length(eig(A)));\n",
    "alfa = eig(A)(alfa_ind) + rand() * 1e-1;;\n",
    "[lambda, x, err, steps] = s_i_power_method(A, rand(length(A), 1), 1e-8, 500, alfa);\n",
    "assert(norm(lambda * x - A * x) < 1e-4);\n",
    "assert(norm(lambda - eig(A)(alfa_ind)) < 1e-4);\n",
    "assert(norm(norm(x) - 1) < 1e-4);\n",
    "\n",
    "% Test 3\n",
    "do\n",
    "    A = rand(5);\n",
    "until max(abs(imag(eig(A)))) < eps;\n",
    "alfa_ind = randi(length(eig(A)));\n",
    "alfa = eig(A)(alfa_ind) + rand() * 1e-1;;\n",
    "[lambda, x, err, steps] = s_i_power_method(A, rand(length(A), 1), 1e-8, 100, alfa);\n",
    "assert(norm(lambda * x - A * x) < 1e-4);\n",
    "assert(norm(lambda - eig(A)(alfa_ind)) < 1e-4);\n",
    "assert(norm(norm(x) - 1) < 1e-4);\n",
    "\n",
    "% Test 4\n",
    "do\n",
    "    A = rand(6);\n",
    "until max(abs(imag(eig(A)))) < eps;\n",
    "alfa_ind = randi(length(eig(A)));\n",
    "alfa = eig(A)(alfa_ind) + rand() * 1e-1;;\n",
    "[lambda, x, err, steps] = s_i_power_method(A, rand(length(A), 1), 1e-8, 100, alfa);\n",
    "assert(norm(lambda * x - A * x) < 1e-4);\n",
    "assert(norm(lambda - eig(A)(alfa_ind)) < 1e-4);\n",
    "assert(norm(norm(x) - 1) < 1e-4);"
   ]
  },
  {
   "cell_type": "markdown",
   "metadata": {
    "deletable": false,
    "editable": false,
    "nbgrader": {
     "cell_type": "markdown",
     "checksum": "ce03114f20e0d56314fe20c1dfcb88b8",
     "grade": false,
     "grade_id": "cell-205a516a3fb06457",
     "locked": true,
     "schema_version": 3,
     "solution": false,
     "task": false
    }
   },
   "source": [
    "## Problema 4\n",
    "\n",
    "Implementati funcția ```orthogonal_power_method(A, tol, max_steps)``` ce primește o matrice simetrică $A$, o toleranță sub care se poate opri algoritmul $tol$ și un număr maxim de pași pentru fiecare metodă a puterii aplicată, $max\\_steps$, și returnează o matrice $X$ care are pe fiecare coloană câte un vector propriu normat (de la cel mai dominant la cel mai puțin dominant), un vector linie $l$ ce conține toate valorile proprii (de la cea mai dominantă la aceea cel mai puțin dominantă) și $total\\_steps$, numărul total de pași (suma pașilor făcuți pentru fiecare metodă a puterii).\n",
    "\n",
    "Eroarea de la fiecare pas se calculează în funcție de vectorul propriu aproximat, nu de valoarea proprie aproximată."
   ]
  },
  {
   "cell_type": "code",
   "execution_count": null,
   "metadata": {
    "deletable": false,
    "nbgrader": {
     "cell_type": "code",
     "checksum": "52a3d25b8cdda75b982e8dc4af942ad9",
     "grade": false,
     "grade_id": "cell-7074a1b524b8b51c",
     "locked": false,
     "schema_version": 3,
     "solution": true,
     "task": false
    }
   },
   "outputs": [],
   "source": [
    "function [X, l, total_steps] = orthogonal_power_method(A, tol, max_steps)\n",
    "    % YOUR CODE HERE\n",
    "    error('No Answer Given!')\n",
    "endfunction"
   ]
  },
  {
   "cell_type": "code",
   "execution_count": null,
   "metadata": {
    "deletable": false,
    "editable": false,
    "nbgrader": {
     "cell_type": "code",
     "checksum": "eac48682ecbf39b1a96da83ec690d050",
     "grade": true,
     "grade_id": "cell-1db5f0490bcef817",
     "locked": true,
     "points": 3,
     "schema_version": 3,
     "solution": false,
     "task": false
    }
   },
   "outputs": [],
   "source": [
    "% Test 1\n",
    "do\n",
    "    A = rand(3); A = A * A';\n",
    "until max(abs(imag(eig(A)))) < eps;\n",
    "[X, l, steps] = orthogonal_power_method(A, 1e-8, 500);\n",
    "assert(norm(A * X - X * diag(l)) < 1e-4);\n",
    "assert(norm(sort(l') - sort(eig(A))) < 1e-4);\n",
    "assert(norm(X) - 1 < 1e-4);\n",
    "\n",
    "% Test 2\n",
    "do\n",
    "    A = rand(4); A = A * A';\n",
    "until max(abs(imag(eig(A)))) < eps;\n",
    "[X, l, steps] = orthogonal_power_method(A, 1e-8, 500);\n",
    "assert(norm(A * X - X * diag(l)) < 1e-4);\n",
    "assert(norm(sort(l') - sort(eig(A))) < 1e-4);\n",
    "assert(norm(X) - 1 < 1e-4);\n",
    "\n",
    "% Test 3\n",
    "do\n",
    "    A = rand(5); A = A * A';\n",
    "until max(abs(imag(eig(A)))) < eps;\n",
    "[X, l, steps] = orthogonal_power_method(A, 1e-8, 500);\n",
    "assert(norm(A * X - X * diag(l)) < 1e-4);\n",
    "assert(norm(sort(l') - sort(eig(A))) < 1e-4);\n",
    "assert(norm(X) - 1 < 1e-4);\n",
    "\n",
    "% Test 4\n",
    "do\n",
    "    A = rand(6); A = A * A';\n",
    "until max(abs(imag(eig(A)))) < eps;\n",
    "[X, l, steps] = orthogonal_power_method(A, 1e-8, 500);\n",
    "assert(norm(A * X - X * diag(l)) < 1e-4);\n",
    "assert(norm(sort(l') - sort(eig(A))) < 1e-4);\n",
    "assert(norm(X) - 1 < 1e-4);"
   ]
  },
  {
   "cell_type": "markdown",
   "metadata": {
    "deletable": false,
    "editable": false,
    "nbgrader": {
     "cell_type": "markdown",
     "checksum": "6250e69c22be7f6210e06e71ff203634",
     "grade": false,
     "grade_id": "cell-d942bce0df3373cd",
     "locked": true,
     "schema_version": 3,
     "solution": false,
     "task": false
    }
   },
   "source": [
    "## Problema 5\n",
    "\n",
    "Implementati funcția ```orthogonal_iteration(A, tol, max_steps)``` ce primește o matrice simetrică $A$, o toleranță sub care se poate opri algoritmul $tol$ și un număr maxim de pași, $max\\_steps$, și returnează o matrice $X$ care are pe fiecare coloană câte un vector propriu normat (de la cel mai dominant la cel mai puțin dominant), un vector linie $l$ ce conține toate valorile proprii (de la cea mai dominantă la aceea cel mai puțin dominantă) și $total\\_steps$, numărul total de pași (suma pașilor făcuți pentru fiecare metodă a puterii).\n",
    "\n",
    "Eroarea de la fiecare pas se calculează în funcție de matricea X aproximată."
   ]
  },
  {
   "cell_type": "code",
   "execution_count": null,
   "metadata": {
    "deletable": false,
    "nbgrader": {
     "cell_type": "code",
     "checksum": "4b753b6c8dad849dbd26e5ee135e4222",
     "grade": false,
     "grade_id": "cell-569f040cca94bb06",
     "locked": false,
     "schema_version": 3,
     "solution": true,
     "task": false
    }
   },
   "outputs": [],
   "source": [
    "function [X, l, steps] = orthogonal_iteration(A, tol, max_steps)\n",
    "    % YOUR CODE HERE\n",
    "    error('No Answer Given!')\n",
    "endfunction"
   ]
  },
  {
   "cell_type": "code",
   "execution_count": null,
   "metadata": {
    "deletable": false,
    "editable": false,
    "nbgrader": {
     "cell_type": "code",
     "checksum": "14526e2fb23fa47d459b1abaf07fdfe6",
     "grade": true,
     "grade_id": "cell-38b60813509ab6c0",
     "locked": true,
     "points": 3,
     "schema_version": 3,
     "solution": false,
     "task": false
    }
   },
   "outputs": [],
   "source": [
    "% Test 1\n",
    "do\n",
    "    A = rand(3); A = A * A';\n",
    "until max(abs(imag(eig(A)))) < eps;\n",
    "[X, l, steps] = orthogonal_iteration(A, 1e-8, 500);\n",
    "assert(norm(A * X - X * diag(l)) < 1e-4);\n",
    "assert(norm(sort(l') - sort(eig(A))) < 1e-4);\n",
    "assert(norm(X) - 1 < 1e-4);\n",
    "\n",
    "% Test 2\n",
    "do\n",
    "    A = rand(4); A = A * A';\n",
    "until max(abs(imag(eig(A)))) < eps;\n",
    "[X, l, steps] = orthogonal_iteration(A, 1e-8, 500);\n",
    "assert(norm(A * X - X * diag(l)) < 1e-4);\n",
    "assert(norm(sort(l') - sort(eig(A))) < 1e-4);\n",
    "assert(norm(X) - 1 < 1e-4);\n",
    "\n",
    "% Test 3\n",
    "do\n",
    "    A = rand(5); A = A * A';\n",
    "until max(abs(imag(eig(A)))) < eps;\n",
    "[X, l, steps] = orthogonal_iteration(A, 1e-8, 500);\n",
    "assert(norm(A * X - X * diag(l)) < 1e-4);\n",
    "assert(norm(sort(l') - sort(eig(A))) < 1e-4);\n",
    "assert(norm(X) - 1 < 1e-4);\n",
    "\n",
    "% Test 4\n",
    "do\n",
    "    A = rand(6); A = A * A';\n",
    "until max(abs(imag(eig(A)))) < eps;\n",
    "[X, l, steps] = orthogonal_iteration(A, 1e-8, 500);\n",
    "assert(norm(A * X - X * diag(l)) < 1e-4);\n",
    "assert(norm(sort(l') - sort(eig(A))) < 1e-4);\n",
    "assert(norm(X) - 1 < 1e-4);"
   ]
  },
  {
   "cell_type": "markdown",
   "metadata": {
    "deletable": false,
    "editable": false,
    "nbgrader": {
     "cell_type": "markdown",
     "checksum": "4c752bbae25974365c1a4ce4cb61cb71",
     "grade": false,
     "grade_id": "cell-b6e79e479919a36f",
     "locked": true,
     "schema_version": 3,
     "solution": false,
     "task": false
    }
   },
   "source": [
    "## Problema 6\n",
    "\n",
    "Implementati funcția ```deflation(A, tol, max_steps)``` ce primește o matrice $A$, o toleranță sub care se pot opri MPD și MPID, $tol$, și un număr maxim de pași pentru MPD și MPID, $max\\_steps$, și returnează o matrice $X$ care are pe fiecare coloană câte un vector propriu normat (de la cel mai dominant la cel mai puțin dominant), un vector linie $l$ ce conține toate valorile proprii (de la cea mai dominantă la aceea cel mai puțin dominantă) și $total\\_steps$, numărul total de pași (suma pașilor făcuți pentru fiecare metodă a puterii).\n",
    "\n",
    "MPD = Metoda Puterii Directe\n",
    "\n",
    "MPID = Metoda Puterii Inverse Deplasată"
   ]
  },
  {
   "cell_type": "code",
   "execution_count": null,
   "metadata": {
    "deletable": false,
    "nbgrader": {
     "cell_type": "code",
     "checksum": "ca393d2d384c21718a51807982345c33",
     "grade": false,
     "grade_id": "cell-b7d49a670624b96b",
     "locked": false,
     "schema_version": 3,
     "solution": true,
     "task": false
    }
   },
   "outputs": [],
   "source": [
    "function [X, l, total_steps] = deflation(A, tol, max_steps)\n",
    "    % YOUR CODE HERE\n",
    "    error('No Answer Given!')\n",
    "endfunction"
   ]
  },
  {
   "cell_type": "code",
   "execution_count": null,
   "metadata": {
    "deletable": false,
    "editable": false,
    "nbgrader": {
     "cell_type": "code",
     "checksum": "15cba078dad6e029b26aa2e71fbdaf62",
     "grade": true,
     "grade_id": "cell-a778cccc183a1eb4",
     "locked": true,
     "points": 3,
     "schema_version": 3,
     "solution": false,
     "task": false
    }
   },
   "outputs": [],
   "source": [
    "% Test 1\n",
    "do\n",
    "    A = rand(3);\n",
    "until max(abs(imag(eig(A)))) < eps;\n",
    "[X, l, steps] = deflation(A, 1e-8, 500);\n",
    "assert(norm(A * X - X * diag(l)) < 1e-4);\n",
    "assert(norm(sort(l') - sort(eig(A))) < 1e-4);\n",
    "for i = 1:length(A)\n",
    "    assert(norm(norm(X(:, i)) - 1) < 1e-4);\n",
    "endfor\n",
    "\n",
    "% Test 2\n",
    "do\n",
    "    A = rand(4);\n",
    "until max(abs(imag(eig(A)))) < eps;\n",
    "[X, l, steps] = deflation(A, 1e-8, 500);\n",
    "assert(norm(A * X - X * diag(l)) < 1e-4);\n",
    "assert(norm(sort(l') - sort(eig(A))) < 1e-4);\n",
    "for i = 1:length(A)\n",
    "    assert(norm(norm(X(:, i)) - 1) < 1e-4);\n",
    "endfor\n",
    "\n",
    "% Test 3\n",
    "do\n",
    "    A = rand(5);\n",
    "until max(abs(imag(eig(A)))) < eps;\n",
    "[X, l, steps] = deflation(A, 1e-8, 500);\n",
    "assert(norm(A * X - X * diag(l)) < 1e-4);\n",
    "assert(norm(sort(l') - sort(eig(A))) < 1e-4);\n",
    "for i = 1:length(A)\n",
    "    assert(norm(norm(X(:, i)) - 1) < 1e-4);\n",
    "endfor\n",
    "\n",
    "% Test 4\n",
    "do\n",
    "    A = rand(6);\n",
    "until max(abs(imag(eig(A)))) < eps;\n",
    "[X, l, steps] = deflation(A, 1e-8, 500);\n",
    "assert(norm(A * X - X * diag(l)) < 1e-4);\n",
    "assert(norm(sort(l') - sort(eig(A))) < 1e-4);\n",
    "for i = 1:length(A)\n",
    "    assert(norm(norm(X(:, i)) - 1) < 1e-4);\n",
    "endfor"
   ]
  },
  {
   "cell_type": "markdown",
   "metadata": {
    "deletable": false,
    "editable": false,
    "nbgrader": {
     "cell_type": "markdown",
     "checksum": "081f97e4e30196bae9d4d509fc56f108",
     "grade": false,
     "grade_id": "cell-ff77bb2e38aaa6f5",
     "locked": true,
     "schema_version": 3,
     "solution": false,
     "task": false
    }
   },
   "source": [
    "## Problema 7\n",
    "\n",
    "Implementati funcția ```hessenberg(A)``` ce primește o matrice $A$ și returnează o matrice tridiagonală cu aceleași valori proprii ca $A$ dacă $A$ este simetrică sau o matrice superior Hessenberg ce aceleași valori proprii ca $A$ dacă a nu este simetrică.\n",
    "\n",
    "HINT: Trebuie implementat fix același algoritm pentru ambele cazuri, nimic diferit în cod."
   ]
  },
  {
   "cell_type": "code",
   "execution_count": null,
   "metadata": {
    "deletable": false,
    "nbgrader": {
     "cell_type": "code",
     "checksum": "574448fd9bb77e2bc49d84c1ce989974",
     "grade": false,
     "grade_id": "cell-7b94e65947b636f3",
     "locked": false,
     "schema_version": 3,
     "solution": true,
     "task": false
    }
   },
   "outputs": [],
   "source": [
    "function [R_] = hessenberg(A)\n",
    "    % YOUR CODE HERE\n",
    "    error('No Answer Given!')\n",
    "end"
   ]
  },
  {
   "cell_type": "code",
   "execution_count": null,
   "metadata": {
    "deletable": false,
    "editable": false,
    "nbgrader": {
     "cell_type": "code",
     "checksum": "7f79db25998c6b26eb56bedaa6ce7fd9",
     "grade": true,
     "grade_id": "cell-8ab7c7070dfde037",
     "locked": true,
     "points": 3,
     "schema_version": 3,
     "solution": false,
     "task": false
    }
   },
   "outputs": [],
   "source": [
    "% Test 1\n",
    "A = rand(3);\n",
    "R_ = hessenberg(A);\n",
    "assert(norm(sort(eig(A)) - sort(eig(R_))) < 1e-4);\n",
    "assert(max(abs(tril(R_, -2))) < 1e-4);\n",
    "\n",
    "% Test 2\n",
    "A = rand(5);\n",
    "R_ = hessenberg(A);\n",
    "assert(norm(sort(eig(A)) - sort(eig(R_))) < 1e-4);\n",
    "assert(max(abs(tril(R_, -2))) < 1e-4);\n",
    "\n",
    "% Test 3\n",
    "A = rand(7);\n",
    "R_ = hessenberg(A);\n",
    "assert(norm(sort(eig(A)) - sort(eig(R_))) < 1e-4);\n",
    "assert(max(abs(tril(R_, -2))) < 1e-4);\n",
    "\n",
    "% Test 4\n",
    "A = rand(20);\n",
    "R_ = hessenberg(A);\n",
    "assert(norm(sort(eig(A)) - sort(eig(R_))) < 1e-4);\n",
    "assert(max(abs(tril(R_, -2))) < 1e-4);\n",
    "\n",
    "% Test 5\n",
    "A = rand(3); A = A * A';\n",
    "R_ = hessenberg(A);\n",
    "assert(norm(sort(eig(A)) - sort(eig(R_))) < 1e-4);\n",
    "assert(max(abs(tril(R_, -2))) < 1e-4);\n",
    "assert(max(abs(triu(R_, 2))) < 1e-4);\n",
    "\n",
    "% Test 6\n",
    "A = rand(5); A = A * A';\n",
    "R_ = hessenberg(A);\n",
    "assert(norm(sort(eig(A)) - sort(eig(R_))) < 1e-4);\n",
    "assert(max(abs(tril(R_, -2))) < 1e-4);\n",
    "assert(max(abs(triu(R_, 2))) < 1e-4);\n",
    "\n",
    "% Test 7\n",
    "A = rand(7); A = A * A';\n",
    "R_ = hessenberg(A);\n",
    "assert(norm(sort(eig(A)) - sort(eig(R_))) < 1e-4);\n",
    "assert(max(abs(tril(R_, -2))) < 1e-4);\n",
    "assert(max(abs(triu(R_, 2))) < 1e-4);\n",
    "\n",
    "% Test 8\n",
    "A = rand(20); A = A * A';\n",
    "R_ = hessenberg(A);\n",
    "assert(norm(sort(eig(A)) - sort(eig(R_))) < 1e-4);\n",
    "assert(max(abs(tril(R_, -2))) < 1e-4);\n",
    "assert(max(abs(triu(R_, 2))) < 1e-4);"
   ]
  },
  {
   "cell_type": "markdown",
   "metadata": {
    "deletable": false,
    "editable": false,
    "nbgrader": {
     "cell_type": "markdown",
     "checksum": "793230bdf6f3c429bd390e4105e51591",
     "grade": false,
     "grade_id": "cell-760ab4172b1c8314",
     "locked": true,
     "schema_version": 3,
     "solution": false,
     "task": false
    }
   },
   "source": [
    "## Problema 8\n",
    "\n",
    "Implementati funcția ```qr_algorithm(A, max_steps)``` ce primește o matrice $A$ simetrică și un număr maxim de pași, $max\\_steps$, și returnează o matrice $X$ care are pe fiecare coloană câte un vector propriu normat (de la cel mai dominant la cel mai puțin dominant), un vector linie $l$ ce conține toate valorile proprii (de la cea mai dominantă la aceea cel mai puțin dominantă) și $total_steps$, numărul total de pași (suma pașilor făcuți pentru fiecare metodă a puterii).\n",
    "\n",
    "HINT: $X = Q_1 * Q_2 * ...$"
   ]
  },
  {
   "cell_type": "code",
   "execution_count": null,
   "metadata": {
    "deletable": false,
    "nbgrader": {
     "cell_type": "code",
     "checksum": "2aa52d5f3a4318b4e11de4de8540eedc",
     "grade": false,
     "grade_id": "cell-ecb82f560c6007b1",
     "locked": false,
     "schema_version": 3,
     "solution": true,
     "task": false
    }
   },
   "outputs": [],
   "source": [
    "function [X, l, steps] = qr_algorithm(A, max_steps)\n",
    "    % YOUR CODE HERE\n",
    "    error('No Answer Given!')\n",
    "endfunction"
   ]
  },
  {
   "cell_type": "code",
   "execution_count": null,
   "metadata": {
    "deletable": false,
    "editable": false,
    "nbgrader": {
     "cell_type": "code",
     "checksum": "1a4e5ad4110acf514ae15bfa66057d06",
     "grade": true,
     "grade_id": "cell-749288febcfb84a8",
     "locked": true,
     "points": 3,
     "schema_version": 3,
     "solution": false,
     "task": false
    }
   },
   "outputs": [],
   "source": [
    "% Test 1\n",
    "do\n",
    "    A = rand(3); A = A * A';\n",
    "until max(abs(imag(eig(A)))) < eps;\n",
    "[X, l, steps] = qr_algorithm(A, 500);\n",
    "assert(norm(A * X - X * diag(l)) < 1e-4);\n",
    "assert(norm(sort(l') - sort(eig(A))) < 1e-4);\n",
    "assert(norm(X) - 1 < 1e-4);\n",
    "\n",
    "% Test 2\n",
    "do\n",
    "    A = rand(4); A = A * A';\n",
    "until max(abs(imag(eig(A)))) < eps;\n",
    "[X, l, steps] = qr_algorithm(A, 500);\n",
    "assert(norm(A * X - X * diag(l)) < 1e-4);\n",
    "assert(norm(sort(l') - sort(eig(A))) < 1e-4);\n",
    "assert(norm(X) - 1 < 1e-4);\n",
    "\n",
    "% Test 3\n",
    "do\n",
    "    A = rand(5); A = A * A';\n",
    "until max(abs(imag(eig(A)))) < eps;\n",
    "[X, l, steps] = qr_algorithm(A, 500);\n",
    "assert(norm(A * X - X * diag(l)) < 1e-4);\n",
    "assert(norm(sort(l') - sort(eig(A))) < 1e-4);\n",
    "assert(norm(X) - 1 < 1e-4);\n",
    "\n",
    "% Test 4\n",
    "do\n",
    "    A = rand(6); A = A * A';\n",
    "until max(abs(imag(eig(A)))) < eps;\n",
    "[X, l, steps] = qr_algorithm(A, 500);\n",
    "assert(norm(A * X - X * diag(l)) < 1e-4);\n",
    "assert(norm(sort(l') - sort(eig(A))) < 1e-4);\n",
    "assert(norm(X) - 1 < 1e-4);"
   ]
  }
 ],
 "metadata": {
  "kernelspec": {
   "display_name": "Octave",
   "language": "octave",
   "name": "octave"
  },
  "language_info": {
   "file_extension": ".m",
   "help_links": [
    {
     "text": "GNU Octave",
     "url": "https://www.gnu.org/software/octave/support.html"
    },
    {
     "text": "Octave Kernel",
     "url": "https://github.com/Calysto/octave_kernel"
    },
    {
     "text": "MetaKernel Magics",
     "url": "https://metakernel.readthedocs.io/en/latest/source/README.html"
    }
   ],
   "mimetype": "text/x-octave",
   "name": "octave",
   "version": "4.2.2"
  }
 },
 "nbformat": 4,
 "nbformat_minor": 4
}
