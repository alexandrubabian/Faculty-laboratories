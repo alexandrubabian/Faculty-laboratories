{
 "cells": [
  {
   "cell_type": "markdown",
   "metadata": {},
   "source": [
    "Inainte sa trimiti notebook-ul:\n",
    "\n",
    "* asigura-te ca totul se executa cum trebuie. Prima oara, **restarteaza kernel-ul** (in meniu, selecteaza Kernel$\\rightarrow$Restart & Run all);\n",
    "\n",
    "* nu lasa niciun mesaj la output (`disp`, `printf`, linii care nu sunt incheiate cu `;`) in functiile pe care le scrii decat daca ti se specifica explicit sa faci acest lucru! Orice abatere va fi **depunctata automat** de grader;\n",
    "\n",
    "* citeste instructiunile de [aici](https://github.com/radusqrt/numerical-methods/blob/master/lab_instructions.md) cu atentie;\n",
    "\n",
    "* asigura-te ca rezolvi toate celulele in care scrie `YOUR CODE HERE` sau `YOUR ANSWER HERE` si ca iti treci numele mai jos:"
   ]
  },
  {
   "cell_type": "code",
   "execution_count": null,
   "metadata": {},
   "outputs": [],
   "source": [
    "STUDENT_NAME = \"Babian Stelian-Alexandru\";"
   ]
  },
  {
   "cell_type": "markdown",
   "metadata": {},
   "source": [
    "---"
   ]
  },
  {
   "cell_type": "markdown",
   "metadata": {
    "deletable": false,
    "editable": false,
    "nbgrader": {
     "cell_type": "markdown",
     "checksum": "dc24e0d69eea64c879c04a0a790c0e22",
     "grade": false,
     "grade_id": "cell-5404251b33cfdb79",
     "locked": true,
     "schema_version": 3,
     "solution": false,
     "task": false
    }
   },
   "source": [
    "# Laborator 6: Soluții ale ecuațiilor neliniare\n",
    "### Autor: Radu Stochitoiu"
   ]
  },
  {
   "cell_type": "markdown",
   "metadata": {
    "deletable": false,
    "editable": false,
    "nbgrader": {
     "cell_type": "markdown",
     "checksum": "5ac060888908ee89a43b3a77c9b23f10",
     "grade": false,
     "grade_id": "cell-00baf1b0987bc11f",
     "locked": true,
     "schema_version": 3,
     "solution": false,
     "task": false
    }
   },
   "source": [
    "## Problema 1\n",
    "\n",
    "Implementati funcția ```bisection(f, a, b, tol, max_steps)``` ce primește un handle la o funcție $f$ (se poate evalua cu ajutorul funcției ```feval```) continuă cu valori reale, capetele unui interval $a$ și $b$, o toleranță sub care se poate opri algoritmul $tol$ și un număr maxim de pași $max\\_steps$ și returnează o rădăcină a lui $f$ aproximată după $steps$ pași, $r$, eroarea de la ultimul pas $err$ și numărul de pași efectuați $steps$."
   ]
  },
  {
   "cell_type": "code",
   "execution_count": 1,
   "metadata": {
    "deletable": false,
    "nbgrader": {
     "cell_type": "code",
     "checksum": "6742f6652a682266aebbc326d368c1a1",
     "grade": false,
     "grade_id": "cell-6ddeddac1b108811",
     "locked": false,
     "schema_version": 3,
     "solution": true,
     "task": false
    }
   },
   "outputs": [],
   "source": [
    "function [r, err, steps] = bisection(f, a, b, tol, max_steps)\n",
    "   steps=0;\n",
    "   while 1\n",
    "   r=(a+b)/2;\n",
    "   if feval(f,a)*feval(f,r)<0\n",
    "       b=r;\n",
    "    else\n",
    "        a=r;\n",
    "    endif\n",
    "    err=b-a;\n",
    "    if (++steps==max_steps||err<tol)\n",
    "        return;\n",
    "    endif\n",
    "    endwhile\n",
    "endfunction"
   ]
  },
  {
   "cell_type": "code",
   "execution_count": 2,
   "metadata": {
    "deletable": false,
    "editable": false,
    "nbgrader": {
     "cell_type": "code",
     "checksum": "e00453d251559101b109edfee282c499",
     "grade": true,
     "grade_id": "cell-cd95bc550ff657e1",
     "locked": true,
     "points": 4,
     "schema_version": 3,
     "solution": false,
     "task": false
    }
   },
   "outputs": [],
   "source": [
    "function [res] = f(x)\n",
    "    res = x^3 + cos(x) + e^x + sqrt(x + 1);\n",
    "endfunction\n",
    "\n",
    "[r, err, steps] = bisection(@f, -1, 100, 1e-8, 100);\n",
    "assert(abs(f(r)) < 1e-5);\n",
    "assert(steps < 40);"
   ]
  },
  {
   "cell_type": "markdown",
   "metadata": {
    "deletable": false,
    "editable": false,
    "nbgrader": {
     "cell_type": "markdown",
     "checksum": "946978524bff66fd99319ed9ea0c72f6",
     "grade": false,
     "grade_id": "cell-35469cb3504a3728",
     "locked": true,
     "schema_version": 3,
     "solution": false,
     "task": false
    }
   },
   "source": [
    "## Problema 2\n",
    "\n",
    "Implementați funcția ```newton_raphson(f, df, x0, tol, max_steps)``` ce primește un handle la o funcție $f$ (se poate evalua cu ajutorul funcției ```feval```) continuă cu valori reale, un handle la derivata lui $f$, $df$, o aproximare inițială a soluției $x_0$, o toleranță sub care se poate opri algoritmul $tol$ și un număr maxim de pași $max\\_steps$ și returnează o rădăcină a lui $f$ aproximată după $steps$ pași, $r$, eroarea de la ultimul pas $err$ și numărul de pași efectuați $steps$."
   ]
  },
  {
   "cell_type": "code",
   "execution_count": 24,
   "metadata": {
    "deletable": false,
    "nbgrader": {
     "cell_type": "code",
     "checksum": "014942549aa3f3924cbe2a202099ced0",
     "grade": false,
     "grade_id": "cell-02ab110a8c5c0279",
     "locked": false,
     "schema_version": 3,
     "solution": true,
     "task": false
    }
   },
   "outputs": [],
   "source": [
    "function [r, err, steps] = newton_raphson(f, df, x0, tol, max_steps)\n",
    "    steps=0;\n",
    "    r=0;\n",
    "    while steps<max_steps\n",
    "    steps=steps+1;\n",
    "    fx=feval(f,x0);\n",
    "    fxd=feval(df,x0);\n",
    "    xi=x0-fx/fxd;\n",
    "    fxi=feval(df,xi);\n",
    "    if abs(fxi)<eps\n",
    "        r=xi;\n",
    "        return;\n",
    "    endif\n",
    "    err=abs((xi-x0)/xi);\n",
    "    if(err<tol)\n",
    "        r=xi;\n",
    "        return;\n",
    "    endif\n",
    "    x0=xi;\n",
    "    endwhile\n",
    "endfunction"
   ]
  },
  {
   "cell_type": "code",
   "execution_count": 25,
   "metadata": {
    "deletable": false,
    "editable": false,
    "nbgrader": {
     "cell_type": "code",
     "checksum": "40e3a8b00bd8c89a91deb056c88b16ce",
     "grade": true,
     "grade_id": "cell-c889e72278c169c5",
     "locked": true,
     "points": 3,
     "schema_version": 3,
     "solution": false,
     "task": false
    }
   },
   "outputs": [],
   "source": [
    "function [res] = f(x)\n",
    "    res = x^2 - 3;\n",
    "endfunction\n",
    "\n",
    "function [res] = df(x)\n",
    "    res = 2 * x;\n",
    "endfunction\n",
    "\n",
    "[r, err, steps] = newton_raphson(@f, @df, 1.7, 1e-8, 100);\n",
    "assert(f(r) < 1e-10);\n",
    "assert(steps < 5);\n",
    "\n",
    "[r, err, steps] = newton_raphson(@f, @df, 31231, 1e-8, 100);\n",
    "assert(f(r) < 1e-10);\n",
    "assert(steps < 25);\n"
   ]
  },
  {
   "cell_type": "markdown",
   "metadata": {
    "deletable": false,
    "editable": false,
    "nbgrader": {
     "cell_type": "markdown",
     "checksum": "7a2af1e506945e0ddff991fb6ff524d5",
     "grade": false,
     "grade_id": "cell-29e36e8fdb87322d",
     "locked": true,
     "schema_version": 3,
     "solution": false,
     "task": false
    }
   },
   "source": [
    "## Problema 3\n",
    "\n",
    "Implementați funcția ```secant(f, x0, x1, tol, max_steps)``` ce primește un handle la o funcție $f$ (se poate evalua cu ajutorul funcției ```feval```) continuă cu valori reale, două aproximări inițiale ale soluției $x_0$ și $x_1$, o toleranță sub care se poate opri algoritmul $tol$ și un număr maxim de pași $max\\_steps$ și returnează o rădăcină a lui $f$ aproximată după $steps$ pași, $r$, eroarea de la ultimul pas $err$ și numărul de pași efectuați $steps$."
   ]
  },
  {
   "cell_type": "code",
   "execution_count": 30,
   "metadata": {
    "deletable": false,
    "nbgrader": {
     "cell_type": "code",
     "checksum": "d27c2dc1a01dade06937f9b823825004",
     "grade": false,
     "grade_id": "cell-875f735ed880fd42",
     "locked": false,
     "schema_version": 3,
     "solution": true,
     "task": false
    }
   },
   "outputs": [],
   "source": [
    "function [r, err, steps] = secant(f, x0, x1, tol, max_steps)\n",
    "    steps=0;\n",
    "    while(steps<max_steps)\n",
    "        steps=steps+1;\n",
    "        f0=feval(f,x0);\n",
    "        f1=feval(f,x1);\n",
    "        x2=x1-f1*(x1-x0)/(f1-f0);\n",
    "        f2=feval(f,x2);\n",
    "        if (abs(f2)<eps)\n",
    "            r=x2;\n",
    "            return;\n",
    "        endif\n",
    "        err=abs((x2-x1)/x2);\n",
    "        if(err<tol)\n",
    "            r=x2;\n",
    "            return;\n",
    "        endif\n",
    "        x0=x1;\n",
    "        x1=x2;\n",
    "    endwhile\n",
    "endfunction"
   ]
  },
  {
   "cell_type": "code",
   "execution_count": 31,
   "metadata": {
    "deletable": false,
    "editable": false,
    "nbgrader": {
     "cell_type": "code",
     "checksum": "301272fe7a282294c2aa2f38ed19c08b",
     "grade": true,
     "grade_id": "cell-129e8ad1b71add3b",
     "locked": true,
     "points": 3,
     "schema_version": 3,
     "solution": false,
     "task": false
    }
   },
   "outputs": [],
   "source": [
    "function [res] = f(x)\n",
    "    res = x^2 - 3;\n",
    "endfunction\n",
    "\n",
    "[r, err, steps] = secant(@f, 1.65, 1.7, 1e-8, 100);\n",
    "assert(f(r) < 1e-10);\n",
    "assert(steps < 5);\n",
    "\n",
    "[r, err, steps] = secant(@f, 312312, 1000, 1e-8, 100);\n",
    "assert(f(r) < 1e-10);\n",
    "assert(steps < 25);"
   ]
  },
  {
   "cell_type": "markdown",
   "metadata": {
    "deletable": false,
    "editable": false,
    "nbgrader": {
     "cell_type": "markdown",
     "checksum": "987cffce87ff0d7f0fb71c42af94e590",
     "grade": false,
     "grade_id": "cell-2bfe306aa67091df",
     "locked": true,
     "schema_version": 3,
     "solution": false,
     "task": false
    }
   },
   "source": [
    "## Problema 4\n",
    "\n",
    "Implementați funcția ```newton(F_handles, x0, tol, max_steps, h)``` ce primește un cell array ce conține un număr variabil de handles la funcții $f_i$ (se pot evalua cu ajutorul funcției ```feval```) continue cu valori reale, un vector $x_0$ cu aproximarea inițială a sistemului de ecuații neliniare $F(x) = 0$, o toleranță sub care se poate opri algoritmul $tol$, un număr maxim de pași $max\\_steps$ și o variabilă ce va ajuta la aproximarea valorilor matricei jacobiene $h$ și returnează un vector $r$ de rădăcini ale sistemului neliniar $F(x) = 0$.\n",
    "\n",
    "Aproximarea lui $\\frac{\\partial f_i}{\\partial x_j}$ se face folosind metoda diferențelor finite (preferabil a doua din laborator)."
   ]
  },
  {
   "cell_type": "code",
   "execution_count": null,
   "metadata": {
    "deletable": false,
    "nbgrader": {
     "cell_type": "code",
     "checksum": "4851b45f84d3b5925e619085b7bd0e90",
     "grade": false,
     "grade_id": "cell-50f78d00c3654390",
     "locked": false,
     "schema_version": 3,
     "solution": true,
     "task": false
    }
   },
   "outputs": [],
   "source": [
    "function [r, err, steps] = secant(F_handles, x0, tol, max_steps, h)\n",
    "    steps=0;\n",
    "    while (steps<max_steps)\n",
    "        steps=steps+1;\n",
    "        f0=feval(F_handles,x0);\n",
    "        [m,n]=size(F_handles)\n",
    "endfunction"
   ]
  },
  {
   "cell_type": "code",
   "execution_count": null,
   "metadata": {
    "deletable": false,
    "editable": false,
    "nbgrader": {
     "cell_type": "code",
     "checksum": "84fea60840eb37cfddcd99d29737edd6",
     "grade": true,
     "grade_id": "cell-1b460dfff99608a3",
     "locked": true,
     "points": 3,
     "schema_version": 3,
     "solution": false,
     "task": false
    }
   },
   "outputs": [],
   "source": [
    "function [res] = f1(x)\n",
    "    res = x(1) + 2 * x(2) - 2;\n",
    "endfunction\n",
    "\n",
    "function [res] = f2(x)\n",
    "    res = x(1)^2 + 4 * x(2)^2 - 4;\n",
    "endfunction\n",
    "\n",
    "[R, err, steps] = secant({@f1; @f2}, rand(2, 1), 1e-5, 100, 1e-5);\n",
    "assert(norm(f1(R)) < 1e-10);\n",
    "assert(norm(f1(R)) < 1e-10);\n",
    "assert(steps < 10);"
   ]
  }
 ],
 "metadata": {
  "kernelspec": {
   "display_name": "Octave",
   "language": "octave",
   "name": "octave"
  },
  "language_info": {
   "file_extension": ".m",
   "help_links": [
    {
     "text": "GNU Octave",
     "url": "https://www.gnu.org/software/octave/support.html"
    },
    {
     "text": "Octave Kernel",
     "url": "https://github.com/Calysto/octave_kernel"
    },
    {
     "text": "MetaKernel Magics",
     "url": "https://metakernel.readthedocs.io/en/latest/source/README.html"
    }
   ],
   "mimetype": "text/x-octave",
   "name": "octave",
   "version": "4.2.2"
  }
 },
 "nbformat": 4,
 "nbformat_minor": 4
}
