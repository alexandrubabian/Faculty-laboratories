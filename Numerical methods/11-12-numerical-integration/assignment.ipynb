{
 "cells": [
  {
   "cell_type": "markdown",
   "metadata": {},
   "source": [
    "Inainte sa trimiti notebook-ul:\n",
    "\n",
    "* asigura-te ca totul se executa cum trebuie. Prima oara, **restarteaza kernel-ul** (in meniu, selecteaza Kernel$\\rightarrow$Restart & Run all);\n",
    "\n",
    "* nu lasa niciun mesaj la output (`disp`, `printf`, linii care nu sunt incheiate cu `;`) in functiile pe care le scrii decat daca ti se specifica explicit sa faci acest lucru! Orice abatere va fi **depunctata automat** de grader;\n",
    "\n",
    "* citeste instructiunile de [aici](https://github.com/radusqrt/numerical-methods/blob/master/lab_instructions.md) cu atentie;\n",
    "\n",
    "* asigura-te ca rezolvi toate celulele in care scrie `YOUR CODE HERE` sau `YOUR ANSWER HERE` si ca iti treci numele mai jos:"
   ]
  },
  {
   "cell_type": "code",
   "execution_count": 1,
   "metadata": {},
   "outputs": [],
   "source": [
    "STUDENT_NAME = \"Babian Stelian Alexandru\";"
   ]
  },
  {
   "cell_type": "markdown",
   "metadata": {},
   "source": [
    "---"
   ]
  },
  {
   "cell_type": "markdown",
   "metadata": {
    "deletable": false,
    "editable": false,
    "nbgrader": {
     "cell_type": "markdown",
     "checksum": "d7009b778094e9906a1db4c49426a17d",
     "grade": false,
     "grade_id": "cell-6b7460c049c57663",
     "locked": true,
     "schema_version": 3,
     "solution": false,
     "task": false
    }
   },
   "source": [
    "# Laborator 11-12: Integrare numerică\n",
    "### Autor: Radu Stochitoiu"
   ]
  },
  {
   "cell_type": "markdown",
   "metadata": {
    "deletable": false,
    "editable": false,
    "nbgrader": {
     "cell_type": "markdown",
     "checksum": "d9f76425f649e9d97061ade8d15d73e7",
     "grade": false,
     "grade_id": "cell-312214bacd0a01ed",
     "locked": true,
     "schema_version": 3,
     "solution": false,
     "task": false
    }
   },
   "source": [
    "## Functii ajutatoare"
   ]
  },
  {
   "cell_type": "code",
   "execution_count": 3,
   "metadata": {
    "deletable": false,
    "editable": false,
    "nbgrader": {
     "cell_type": "code",
     "checksum": "8d18e092f3bbe56bdc33880d0d70124d",
     "grade": false,
     "grade_id": "cell-1511699b0c6a3189",
     "locked": true,
     "schema_version": 3,
     "solution": false,
     "task": false
    }
   },
   "outputs": [],
   "source": [
    "function plot_trapezoidal(f, a, b, n)\n",
    "    hold;\n",
    "    xx = linspace(a, b);\n",
    "    h = (b - a) / n;\n",
    "    plot(xx, f(xx), 'b');\n",
    "    for x = a:h:b-h\n",
    "        plot([x, x+h], [f(x), f(x+h)], 'r');\n",
    "    endfor\n",
    "    plot([a:h:b], f([a:h:b]), 'o', 'markersize', 10);\n",
    "endfunction\n",
    "\n",
    "function plot_simpson(f, a, b, n)\n",
    "    hold;\n",
    "    xx = linspace(a, b);\n",
    "    h = (b - a) / (2*n);\n",
    "    plot(xx, f(xx), 'b');\n",
    "    for x = a:2*h:b-h\n",
    "        L = polyfit([x, x+h, x+2*h], [f(x), f(x+h), f(x+2*h)], 2);\n",
    "        xx = linspace(x, x+2*h);\n",
    "        yy = polyval(L, xx);\n",
    "        plot(xx, yy, 'r');\n",
    "    endfor\n",
    "    plot([a:h:b], f([a:h:b]), 'o', 'markersize', 10);\n",
    "endfunction"
   ]
  },
  {
   "cell_type": "code",
   "execution_count": null,
   "metadata": {},
   "outputs": [],
   "source": []
  },
  {
   "cell_type": "markdown",
   "metadata": {
    "deletable": false,
    "editable": false,
    "nbgrader": {
     "cell_type": "markdown",
     "checksum": "99f3172e5a37a82f646e97b2defd6a7c",
     "grade": false,
     "grade_id": "cell-94df3ec4f11a6639",
     "locked": true,
     "schema_version": 3,
     "solution": false,
     "task": false
    }
   },
   "source": [
    "## Problema 1\n",
    "\n",
    "Implementati funcția ```trapezoidal(f, a, b, n)``` ce primește un handle la o funcție $f$, un interval, $[a, b]$, un număr de subintervale, $n$, și returnează valoarea integralei numerice aproximate cu regula trapezelor."
   ]
  },
  {
   "cell_type": "code",
   "execution_count": 14,
   "metadata": {
    "deletable": false,
    "nbgrader": {
     "cell_type": "code",
     "checksum": "9cbb415b9847c9e1ea10fa1dc32591f2",
     "grade": false,
     "grade_id": "cell-550fffdeef8126ad",
     "locked": false,
     "schema_version": 3,
     "solution": true,
     "task": false
    }
   },
   "outputs": [],
   "source": [
    "function [T] = trapezoidal(f, a, b, n)\n",
    "    suma=0;\n",
    "    inaltime=(b-a)/n;\n",
    "    y=zeros(n-1,1);\n",
    "    x=zeros(n-1,1);\n",
    "    %x(1:n-1)=a+1:(n-1)*inaltime\n",
    "    %y(1:n-1)=f(x(1:n-1))\n",
    "    for i=1:n-1\n",
    "    x(i)=a+i*inaltime;\n",
    "    y(i)=f(x(i));\n",
    "    endfor\n",
    "    suma=sum(y);\n",
    "    T=inaltime/2*(f(a)+f(b)+2*suma);\n",
    "endfunction"
   ]
  },
  {
   "cell_type": "code",
   "execution_count": 16,
   "metadata": {},
   "outputs": [
    {
     "name": "stdout",
     "output_type": "stream",
     "text": [
      "res =  2.3438\r\n"
     ]
    }
   ],
   "source": [
    "function [y]= f(x)\n",
    "    y=x^2;\n",
    "endfunction\n",
    "res=trapezoidal(@f,1,2,4)"
   ]
  },
  {
   "cell_type": "code",
   "execution_count": 4,
   "metadata": {
    "deletable": false,
    "editable": false,
    "nbgrader": {
     "cell_type": "code",
     "checksum": "36d2239c9a77956991bdf02cc1f737a5",
     "grade": true,
     "grade_id": "cell-7832aded3def4a81",
     "locked": true,
     "points": 3.33,
     "schema_version": 3,
     "solution": false,
     "task": false
    }
   },
   "outputs": [
    {
     "data": {
      "image/png": "[encoded data removed]",
      "text/plain": [
       "<IPython.core.display.Image object>"
      ]
     },
     "metadata": {},
     "output_type": "display_data"
    }
   ],
   "source": [
    "function [y] = f(x)\n",
    "    y = exp(x);\n",
    "endfunction\n",
    "\n",
    "res = trapezoidal(@f, 0, 2, 2);\n",
    "assert(norm(res - 6.9128) < 1e-4);\n",
    "subplot(3, 1, 1);\n",
    "plot_trapezoidal(@f, 0, 2, 2);\n",
    "\n",
    "res = trapezoidal(@f, 0, 2, 10);\n",
    "assert(norm(res - 6.4103) < 1e-4);\n",
    "subplot(3, 1, 2);\n",
    "plot_trapezoidal(@f, 0, 2, 10);\n",
    "\n",
    "res = trapezoidal(@f, 0, 2, 150);\n",
    "assert(norm(res - 6.3892) < 1e-4);\n",
    "subplot(3, 1, 3);\n",
    "plot_trapezoidal(@f, 0, 2, 150);\n",
    "\n",
    "pos = get(gcf,'Position');\n",
    "pos(3) *= 1.5;\n",
    "pos(4) *= 3;\n",
    "set(gcf, 'Position', pos);"
   ]
  },
  {
   "cell_type": "markdown",
   "metadata": {
    "deletable": false,
    "editable": false,
    "nbgrader": {
     "cell_type": "markdown",
     "checksum": "dfb77818994b5c9a65c14e611f8d9c1d",
     "grade": false,
     "grade_id": "cell-db0d4895536658da",
     "locked": true,
     "schema_version": 3,
     "solution": false,
     "task": false
    }
   },
   "source": [
    "## Problema 2\n",
    "\n",
    "Implementati funcția ```simpson(f, a, b, n)``` ce primește un handle la o funcție $f$, un interval, $[a, b]$, un număr $n$ (vor fi $2n$ subintervale), și returnează valoarea integralei numerice aproximate cu regula Simpson."
   ]
  },
  {
   "cell_type": "code",
   "execution_count": 4,
   "metadata": {
    "deletable": false,
    "nbgrader": {
     "cell_type": "code",
     "checksum": "931c2a235f1b6797202ff947b96a8bf2",
     "grade": false,
     "grade_id": "cell-4495f7a280a3fcc6",
     "locked": false,
     "schema_version": 3,
     "solution": true,
     "task": false
    }
   },
   "outputs": [],
   "source": [
    "function [S] = simpson(f, a, b, n)\n",
    "    S=f(a);\n",
    "    inaltime=(b-a)/(2*n);\n",
    "    p=0;\n",
    "    q=0; \n",
    "    for i=1:n-1\n",
    "        a=a+inaltime;\n",
    "        S=S+4*f(a);\n",
    "        a=a+inaltime;\n",
    "        S=S+2*f(a);\n",
    "    endfor\n",
    "    a=a+inaltime;\n",
    "    S=S+4*f(a)+f(b);\n",
    "    S=inaltime/3*S;\n",
    "endfunction"
   ]
  },
  {
   "cell_type": "code",
   "execution_count": 5,
   "metadata": {
    "deletable": false,
    "editable": false,
    "nbgrader": {
     "cell_type": "code",
     "checksum": "511aecdb440c01bf88006acd851d6c94",
     "grade": true,
     "grade_id": "cell-4aa703cf8b2a99a7",
     "locked": true,
     "points": 3.33,
     "schema_version": 3,
     "solution": false,
     "task": false
    }
   },
   "outputs": [
    {
     "data": {
      "image/png": "[encoded data removed]",
      "text/plain": [
       "<IPython.core.display.Image object>"
      ]
     },
     "metadata": {},
     "output_type": "display_data"
    }
   ],
   "source": [
    "function [y] = f(x)\n",
    "    y = exp(x) .* sin(x) + sqrt(x.^2 + 1);\n",
    "endfunction\n",
    "\n",
    "res = simpson(@f, -10, 10, 4);\n",
    "assert(norm(res - (-4441.813339)) < 1e-4);\n",
    "subplot(3, 1, 1);\n",
    "plot_simpson(@f, -10, 10, 4);\n",
    "\n",
    "res = simpson(@f, -10, 10, 10);\n",
    "assert(norm(res - 3206.95473) < 1e-4);\n",
    "subplot(3, 1, 2);\n",
    "plot_simpson(@f, -10, 10, 10);\n",
    "\n",
    "res = simpson(@f, -10, 10, 20);\n",
    "assert(norm(res - 3.347201142e+03) < 1e-4);\n",
    "subplot(3, 1, 3);\n",
    "plot_simpson(@f, -10, 10, 20);\n",
    "\n",
    "pos = get(gcf,'Position');\n",
    "pos(3) *= 1.5;\n",
    "pos(4) *= 3;\n",
    "set(gcf, 'Position', pos);"
   ]
  },
  {
   "cell_type": "markdown",
   "metadata": {
    "deletable": false,
    "editable": false,
    "nbgrader": {
     "cell_type": "markdown",
     "checksum": "e2d7be7f944c9f7e99420d37dc312674",
     "grade": false,
     "grade_id": "cell-af86b8eb923dbf8a",
     "locked": true,
     "schema_version": 3,
     "solution": false,
     "task": false
    }
   },
   "source": [
    "## Problema 3\n",
    "\n",
    "Implementati funcția ```romberg(f, a, b, n)``` ce primește un handle la o funcție $f$, un interval, $[a, b]$, un număr $n$ și returnează valoarea integralei numerice aproximate cu Romberg ($R(n, n)$)."
   ]
  },
  {
   "cell_type": "code",
   "execution_count": 12,
   "metadata": {
    "deletable": false,
    "nbgrader": {
     "cell_type": "code",
     "checksum": "d7a7796cfedb3e3957438538952b6c11",
     "grade": false,
     "grade_id": "cell-1d6aeecf64e39357",
     "locked": false,
     "schema_version": 3,
     "solution": true,
     "task": false
    }
   },
   "outputs": [],
   "source": [
    "function [R] = romberg(f, a, b, n)\n",
    "   prev_R=zeros(n+1,1);\n",
    "   for i=1:n+1\n",
    "   prev_R(i)=trapezoidal(f,a,b,2^(i-1))\n",
    "   endfor\n",
    "   R=prev_R;\n",
    "   for i=1:n\n",
    "   R=zeros(length(prev_R)-1,1);\n",
    "   for j=2:length(prev_R);\n",
    "   R(j-1)=prev_R(j)+(prev_R(j)-prev_R(j-1))/(2^(2*i)-1);\n",
    "   endfor\n",
    "   prev_R=R;\n",
    "   endfor\n",
    "endfunction"
   ]
  },
  {
   "cell_type": "code",
   "execution_count": 13,
   "metadata": {},
   "outputs": [
    {
     "name": "stdout",
     "output_type": "stream",
     "text": [
      "prev_R =\r\n",
      "\r\n",
      "   2.50000\r\n",
      "   0.00000\r\n",
      "   0.00000\r\n",
      "   0.00000\r\n",
      "\r\n",
      "prev_R =\r\n",
      "\r\n",
      "   2.50000\r\n",
      "   2.37500\r\n",
      "   0.00000\r\n",
      "   0.00000\r\n",
      "\r\n",
      "prev_R =\r\n",
      "\r\n",
      "   2.50000\r\n",
      "   2.37500\r\n",
      "   2.34375\r\n",
      "   0.00000\r\n",
      "\r\n",
      "prev_R =\r\n",
      "\r\n",
      "   2.5000\r\n",
      "   2.3750\r\n",
      "   2.3438\r\n",
      "   2.3359\r\n",
      "\r\n",
      "res =  2.3333\r\n"
     ]
    }
   ],
   "source": [
    "function [y] = f(x)\n",
    "    y=x^2;\n",
    "endfunction\n",
    "res = romberg(@f, 1, 2, 3)"
   ]
  },
  {
   "cell_type": "code",
   "execution_count": 11,
   "metadata": {
    "deletable": false,
    "editable": false,
    "nbgrader": {
     "cell_type": "code",
     "checksum": "62124e67a4de9448a5b9243185c9d9bc",
     "grade": true,
     "grade_id": "cell-3b10c159d02d70f4",
     "locked": true,
     "points": 3.34,
     "schema_version": 3,
     "solution": false,
     "task": false
    }
   },
   "outputs": [],
   "source": [
    "function [y] = f(x)\n",
    "    y = sin(x) .* (x.^2 + exp(x)) .^ (0.7);\n",
    "endfunction\n",
    "\n",
    "res = romberg(@f, -20, 20, 2);\n",
    "assert(norm(res - 3.407222054e+06) < 1e-3);\n",
    "\n",
    "res = romberg(@f, -20, 20, 5);\n",
    "assert(norm(res - 1.613822232e+05) < 1e-3);\n",
    "\n",
    "res = romberg(@f, -20, 20, 7);\n",
    "assert(norm(res - 1.864509845e+05) < 1e-3);"
   ]
  },
  {
   "cell_type": "code",
   "execution_count": null,
   "metadata": {},
   "outputs": [],
   "source": []
  },
  {
   "cell_type": "code",
   "execution_count": null,
   "metadata": {},
   "outputs": [],
   "source": []
  }
 ],
 "metadata": {
  "kernelspec": {
   "display_name": "Octave",
   "language": "octave",
   "name": "octave"
  },
  "language_info": {
   "file_extension": ".m",
   "help_links": [
    {
     "text": "GNU Octave",
     "url": "https://www.gnu.org/software/octave/support.html"
    },
    {
     "text": "Octave Kernel",
     "url": "https://github.com/Calysto/octave_kernel"
    },
    {
     "text": "MetaKernel Magics",
     "url": "https://metakernel.readthedocs.io/en/latest/source/README.html"
    }
   ],
   "mimetype": "text/x-octave",
   "name": "octave",
   "version": "4.2.2"
  }
 },
 "nbformat": 4,
 "nbformat_minor": 4
}
