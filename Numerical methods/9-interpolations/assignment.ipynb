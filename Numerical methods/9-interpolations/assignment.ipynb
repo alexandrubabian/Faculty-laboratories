{
 "cells": [
  {
   "cell_type": "markdown",
   "metadata": {},
   "source": [
    "Inainte sa trimiti notebook-ul:\n",
    "\n",
    "* asigura-te ca totul se executa cum trebuie. Prima oara, **restarteaza kernel-ul** (in meniu, selecteaza Kernel$\\rightarrow$Restart & Run all);\n",
    "\n",
    "* nu lasa niciun mesaj la output (`disp`, `printf`, linii care nu sunt incheiate cu `;`) in functiile pe care le scrii decat daca ti se specifica explicit sa faci acest lucru! Orice abatere va fi **depunctata automat** de grader;\n",
    "\n",
    "* citeste instructiunile de [aici](https://github.com/radusqrt/numerical-methods/blob/master/lab_instructions.md) cu atentie;\n",
    "\n",
    "* asigura-te ca rezolvi toate celulele in care scrie `YOUR CODE HERE` sau `YOUR ANSWER HERE` si ca iti treci numele mai jos:"
   ]
  },
  {
   "cell_type": "code",
   "execution_count": 1,
   "metadata": {},
   "outputs": [],
   "source": [
    "STUDENT_NAME = \"Babian Stelian Alexandru\";"
   ]
  },
  {
   "cell_type": "markdown",
   "metadata": {},
   "source": [
    "---"
   ]
  },
  {
   "cell_type": "code",
   "execution_count": 1,
   "metadata": {},
   "outputs": [],
   "source": [
    "function [x] = SST (A,b)\n",
    "  [n,n]=size(A);\n",
    "  x=zeros(n,1);\n",
    "  if A(n,n)~=0\n",
    "    x(n)=b(n)/A(n,n);\n",
    "  endif\n",
    "  for i=(n-1):-1:1\n",
    "    suma=A(i,(i+1):n)*x((i+1):n,1);\n",
    "    x(i)=(b(i)-suma)/A(i,i);\n",
    "  endfor\n",
    "endfunction"
   ]
  },
  {
   "cell_type": "markdown",
   "metadata": {
    "deletable": false,
    "editable": false,
    "nbgrader": {
     "cell_type": "markdown",
     "checksum": "f11bf5f1a5135c9ce99001321749ce09",
     "grade": false,
     "grade_id": "cell-04c7510c8f1c2698",
     "locked": true,
     "schema_version": 3,
     "solution": false,
     "task": false
    }
   },
   "source": [
    "# Laborator 9: Interpolari\n",
    "### Autor: Radu Stochitoiu"
   ]
  },
  {
   "cell_type": "markdown",
   "metadata": {
    "deletable": false,
    "editable": false,
    "nbgrader": {
     "cell_type": "markdown",
     "checksum": "e8333e18bbbac61dd5aae02a18638a13",
     "grade": false,
     "grade_id": "cell-e751989d65b9c642",
     "locked": true,
     "schema_version": 3,
     "solution": false,
     "task": false
    }
   },
   "source": [
    "## Problema 1\n",
    "\n",
    "Implementati funcția ```vandermonde(x, y)``` ce primește doi vectori linie, $x, y$, reprezentând coordonatele pe axele OX și OY ale unor puncte ce definesc suportul interpolării și returnează un vector coloană, $P$, ce reprezintă polinomul care trece prin toate punctele.\n",
    "\n",
    "Primul element al lui $P$ reprezintă coeficientul celei mai mari puteri.\n",
    "\n",
    "Ultimul element al lui $P$ reprezintă coeficientul celei mai mici puteri ($x^0$)."
   ]
  },
  {
   "cell_type": "code",
   "execution_count": 3,
   "metadata": {
    "deletable": false,
    "nbgrader": {
     "cell_type": "code",
     "checksum": "db5fcd7b74b007c1801ed9e4b49227a4",
     "grade": false,
     "grade_id": "cell-e0adea4fd70d2b4d",
     "locked": false,
     "schema_version": 3,
     "solution": true,
     "task": false
    }
   },
   "outputs": [],
   "source": [
    "function [P] = vandermonde(x, y)\n",
    "    [m,n]=size(x);\n",
    "    A=zeros(n,n);\n",
    "    P=zeros(n,1);\n",
    "    aux=zeros(n,1);\n",
    "    for i=1:n\n",
    "        for j=1:n\n",
    "            A(i,j)=x(i)^(j-1);\n",
    "        endfor\n",
    "    endfor\n",
    "    Q=eye(n);\n",
    "    R=A;\n",
    "    for i=1:n\n",
    "        x=A(:,i);\n",
    "        x(1:i-1)=0;\n",
    "        sigma=sign(x(i))*norm(x);\n",
    "        x(i)=x(i)+sigma;\n",
    "        H=eye(n);\n",
    "        H=H-(2*x*x')/(x'*x);\n",
    "        \n",
    "        A=H*A;\n",
    "        Q=Q*H;\n",
    "    endfor\n",
    "    R=A;\n",
    "    R(abs(R(1:n,1:n))<=1e-12)=0;\n",
    "    aux=SST(R,Q'*y');\n",
    "    for i=1:n\n",
    "        P(i)=aux(n-i+1);\n",
    "    endfor\n",
    "endfunction"
   ]
  },
  {
   "cell_type": "code",
   "execution_count": null,
   "metadata": {},
   "outputs": [],
   "source": [
    "x=[0]"
   ]
  },
  {
   "cell_type": "code",
   "execution_count": 4,
   "metadata": {
    "deletable": false,
    "editable": false,
    "nbgrader": {
     "cell_type": "code",
     "checksum": "0603c10cdea3fff847e0661afc9154ae",
     "grade": true,
     "grade_id": "cell-5997f045f89d340e",
     "locked": true,
     "points": 2.5,
     "schema_version": 3,
     "solution": false,
     "task": false
    }
   },
   "outputs": [
    {
     "data": {
      "image/png": "[encoded data removed]",
      "text/plain": [
       "<IPython.core.display.Image object>"
      ]
     },
     "metadata": {},
     "output_type": "display_data"
    }
   ],
   "source": [
    "function [y] = f(x)\n",
    "    y = sin(x) - x.^2;\n",
    "endfunction\n",
    "\n",
    "% Test 1\n",
    "x = sort((rand(1, 3) - 0.5) * 50);\n",
    "y = f(x);\n",
    "P = vandermonde(x, y);\n",
    "\n",
    "subplot(3, 1, 1);\n",
    "hold\n",
    "xx = linspace(min(x), max(x));\n",
    "yy = polyval(P, xx);\n",
    "plot(xx, yy)\n",
    "plot(xx, f(xx))\n",
    "plot(x, y, 'o', 'markersize', 12)\n",
    "for i = 1:length(x)\n",
    "    assert(norm(polyval(P, x(i)) - y(i)) < 1e-4);\n",
    "endfor\n",
    "legend(\"Aproximare\", \"Real\")\n",
    "\n",
    "% Test 2\n",
    "x = sort((rand(1, 5) - 0.5) * 50);\n",
    "y = f(x);\n",
    "P = vandermonde(x, y);\n",
    "\n",
    "subplot(3, 1, 2);\n",
    "hold\n",
    "xx = linspace(min(x), max(x));\n",
    "yy = polyval(P, xx);\n",
    "plot(xx, yy)\n",
    "plot(xx, f(xx))\n",
    "hold on\n",
    "plot(x, y, 'o', 'markersize', 12)\n",
    "for i = 1:length(x)\n",
    "    assert(norm(polyval(P, x(i)) - y(i)) < 1e-4);\n",
    "endfor\n",
    "legend(\"Aproximare\", \"Real\")\n",
    "\n",
    "% Test 3\n",
    "x = sort((rand(1, 10) - 0.5) * 50);\n",
    "y = f(x);\n",
    "P = vandermonde(x, y);\n",
    "\n",
    "subplot(3, 1, 3);\n",
    "hold\n",
    "xx = linspace(min(x), max(x));\n",
    "yy = polyval(P, xx);\n",
    "plot(xx, yy)\n",
    "plot(xx, f(xx))\n",
    "hold on\n",
    "plot(x, y, 'o', 'markersize', 12)\n",
    "for i = 1:length(x)\n",
    "    assert(norm(polyval(P, x(i)) - y(i)) < 1e-4);\n",
    "endfor\n",
    "legend(\"Aproximare\", \"Real\")"
   ]
  },
  {
   "cell_type": "markdown",
   "metadata": {
    "deletable": false,
    "editable": false,
    "nbgrader": {
     "cell_type": "markdown",
     "checksum": "23a857dced380395a944837111288456",
     "grade": false,
     "grade_id": "cell-43a2db7c04972239",
     "locked": true,
     "schema_version": 3,
     "solution": false,
     "task": false
    }
   },
   "source": [
    "## Problema 2\n",
    "\n",
    "Implementati funcția ```lagrange(x, y, xx)``` ce primește doi vectori linie, $x, y$, reprezentând coordonatele pe axele OX și OY ale unor puncte ce definesc suportul interpolării și un vector linie $xx$ pentru care vrem să găsim valorile aproximate și returnează un vector linie, $yy$, ce reprezintă valorile interpolării Lagrange cu suportul $x, y$ prin toate punctele $xx$."
   ]
  },
  {
   "cell_type": "code",
   "execution_count": 1,
   "metadata": {
    "deletable": false,
    "nbgrader": {
     "cell_type": "code",
     "checksum": "fb61e583f6a307a5139d5d26d673d618",
     "grade": false,
     "grade_id": "cell-494fbafda041e109",
     "locked": false,
     "schema_version": 3,
     "solution": true,
     "task": false
    }
   },
   "outputs": [],
   "source": [
    "function [rez]=L(z,i,x)\n",
    "    rez=1;\n",
    "    [m,n]=size(x);\n",
    "    for j=1:n\n",
    "        if (j~=i)\n",
    "            rez=rez*(z-x(j))/(x(i)-x(j));\n",
    "        endif\n",
    "    endfor\n",
    "endfunction\n",
    "function [yy] = lagrange(x, y, xx)\n",
    "    [m,n]=size(x);\n",
    "    [mxx,nxx]=size(xx);\n",
    "    yy=zeros(1,nxx);\n",
    "    P=zeros(n,1);\n",
    "    for i=1:n\n",
    "        for k=1:nxx\n",
    "            rez=L(xx(k),i,x);\n",
    "            yy(k)=yy(k)+y(i)*rez;\n",
    "        endfor\n",
    "    endfor\n",
    "endfunction"
   ]
  },
  {
   "cell_type": "code",
   "execution_count": 2,
   "metadata": {},
   "outputs": [
    {
     "name": "stdout",
     "output_type": "stream",
     "text": [
      "x =\n",
      "\n",
      "   0   1   2\n",
      "\n",
      "y =\n",
      "\n",
      "   1   3   3\n",
      "\n",
      "xx =  1.5000\n",
      "yy =  3.2500\n"
     ]
    }
   ],
   "source": [
    "x=[0 1 2]\n",
    "y=[1 3 3]\n",
    "xx=[1.5]\n",
    "yy=lagrange(x,y,xx)"
   ]
  },
  {
   "cell_type": "code",
   "execution_count": 6,
   "metadata": {
    "deletable": false,
    "editable": false,
    "nbgrader": {
     "cell_type": "code",
     "checksum": "88c1e3aa9ddf16c54e3c28fca4f81422",
     "grade": true,
     "grade_id": "cell-b80a51a7a9d78f15",
     "locked": true,
     "points": 2.5,
     "schema_version": 3,
     "solution": false,
     "task": false
    }
   },
   "outputs": [
    {
     "data": {
      "image/png": "[encoded data removed]",
      "text/plain": [
       "<IPython.core.display.Image object>"
      ]
     },
     "metadata": {},
     "output_type": "display_data"
    }
   ],
   "source": [
    "function [y] = f(x)\n",
    "    y = x.^3 / 15 - 3;\n",
    "endfunction\n",
    "\n",
    "% Test 1\n",
    "x = sort((rand(1, 3) - 0.5) * 100);\n",
    "y = f(x);\n",
    "xx = linspace(min(x), max(x));\n",
    "yy = lagrange(x, y, xx);\n",
    "yy_test = lagrange(x, y, x);\n",
    "\n",
    "subplot(3, 1, 1);\n",
    "hold;\n",
    "plot(xx, yy)\n",
    "plot(xx, f(xx))\n",
    "plot(x, y, 'o', 'markersize', 12)\n",
    "for i = 1:length(x)\n",
    "    assert(norm(yy_test(i) - y(i)) < 1e-4);\n",
    "endfor\n",
    "legend(\"Aproximare\", \"Real\")\n",
    "\n",
    "% Test 2\n",
    "x = sort((rand(1, 10) - 0.5) * 100);\n",
    "y = f(x);\n",
    "xx = linspace(min(x), max(x));\n",
    "yy = lagrange(x, y, xx);\n",
    "yy_test = lagrange(x, y, x);\n",
    "\n",
    "subplot(3, 1, 2);\n",
    "hold\n",
    "plot(xx, yy)\n",
    "plot(xx, f(xx))\n",
    "plot(x, y, 'o', 'markersize', 12)\n",
    "for i = 1:length(x)\n",
    "    assert(norm(yy_test(i) - y(i)) < 1e-4);\n",
    "endfor\n",
    "legend(\"Aproximare\", \"Real\")\n",
    "\n",
    "% Test 3\n",
    "x = sort((rand(1, 30) - 0.5) * 100);\n",
    "y = f(x);\n",
    "xx = linspace(min(x), max(x));\n",
    "yy = lagrange(x, y, xx);\n",
    "yy_test = lagrange(x, y, x);\n",
    "\n",
    "subplot(3, 1, 3);\n",
    "hold\n",
    "plot(xx, yy)\n",
    "plot(xx, f(xx))\n",
    "plot(x, y, 'o', 'markersize', 12)\n",
    "for i = 1:length(x)\n",
    "    assert(norm(yy_test(i) - y(i)) < 1e-4);\n",
    "endfor\n",
    "legend(\"Aproximare\", \"Real\")"
   ]
  },
  {
   "cell_type": "markdown",
   "metadata": {
    "deletable": false,
    "editable": false,
    "nbgrader": {
     "cell_type": "markdown",
     "checksum": "b2408a561977a9c4fbbcecadfdc830ea",
     "grade": false,
     "grade_id": "cell-065ac5825e6c57cc",
     "locked": true,
     "schema_version": 3,
     "solution": false,
     "task": false
    }
   },
   "source": [
    "## Problema 3\n",
    "\n",
    "Implementati funcția ```newton(x, y)``` ce primește doi vectori linie, $x, y$, reprezentând coordonatele pe axele OX și OY ale unor puncte ce definesc suportul interpolării și returnează un vector linie, $P$, ce reprezintă coeficienții interpolării prin diferențe divizate ($b_0, b_1, ...$).\n",
    "\n",
    "Primul element al lui $P$ reprezintă coeficientul celei mai mari puteri.\n",
    "\n",
    "Ultimul element al lui $P$ reprezintă coeficientul celei mai mici puteri."
   ]
  },
  {
   "cell_type": "code",
   "execution_count": 21,
   "metadata": {
    "deletable": false,
    "nbgrader": {
     "cell_type": "code",
     "checksum": "8c3678d21a9445b06e894be62ab12f53",
     "grade": false,
     "grade_id": "cell-6761c22fa27d79cd",
     "locked": false,
     "schema_version": 3,
     "solution": true,
     "task": false
    }
   },
   "outputs": [],
   "source": [
    "% Functie care calculeaza recursiv coeficientul f[x_start, ..., x_stop]\n",
    "% Nu e obligatoriu sa o implementati\n",
    "\n",
    "function [P] = newton(x, y)\n",
    "    [m,n]=size(x);\n",
    "    P=zeros(1,n);\n",
    "    Paux=zeros(1,n);\n",
    "    for i=1:n\n",
    "        suma=0;\n",
    "        for j=1:i\n",
    "            numar=y(j);\n",
    "            produs=1;\n",
    "            for k=1:i\n",
    "                if(k~=j)\n",
    "                    produs=produs*(x(j)-x(k));\n",
    "                endif\n",
    "            endfor\n",
    "            numar=numar/produs;\n",
    "            suma=suma+numar;\n",
    "        endfor\n",
    "        Paux(i)=suma;\n",
    "    endfor\n",
    "\n",
    "    for i=1:n\n",
    "        P(i)=Paux(n-i+1);\n",
    "    endfor\n",
    "endfunction"
   ]
  },
  {
   "cell_type": "code",
   "execution_count": 22,
   "metadata": {
    "deletable": false,
    "editable": false,
    "nbgrader": {
     "cell_type": "code",
     "checksum": "1205fdce5f0338bad50650280a35896d",
     "grade": true,
     "grade_id": "cell-0d51add581d76a6a",
     "locked": true,
     "points": 2.5,
     "schema_version": 3,
     "solution": false,
     "task": false
    }
   },
   "outputs": [
    {
     "data": {
      "image/png": "[encoded data removed]",
      "text/plain": [
       "<IPython.core.display.Image object>"
      ]
     },
     "metadata": {},
     "output_type": "display_data"
    }
   ],
   "source": [
    "function [y] = newton_eval(P, xx, x)\n",
    "    y = 0;\n",
    "    p = 1;\n",
    "    for i = 1:length(P)\n",
    "        y += p .* P(length(P) - i + 1);\n",
    "        p = p .* (x - xx(i));\n",
    "    endfor\n",
    "endfunction\n",
    "\n",
    "function [y] = f(x)\n",
    "    y = x.^3 / 15 - 3;\n",
    "endfunction\n",
    "\n",
    "% Test 1\n",
    "x = sort((rand(1, 3) - 0.5) * 100);\n",
    "y = f(x);\n",
    "xx = linspace(min(x), max(x));\n",
    "P = newton(x, y);\n",
    "yy = newton_eval(P, x, xx);\n",
    "yy_test = newton_eval(P, x, x);\n",
    "\n",
    "subplot(3, 1, 1);\n",
    "hold;\n",
    "plot(xx, yy)\n",
    "plot(xx, f(xx))\n",
    "plot(x, y, 'o', 'markersize', 12)\n",
    "for i = 1:length(x)\n",
    "    assert(norm(yy_test(i) - y(i)) < 1e-4);\n",
    "endfor\n",
    "legend(\"Aproximare\", \"Real\")\n",
    "\n",
    "% Test 2\n",
    "x = sort((rand(1, 10) - 0.5) * 100);\n",
    "y = f(x);\n",
    "xx = linspace(min(x), max(x));\n",
    "P = newton(x, y);\n",
    "yy = newton_eval(P, x, xx);\n",
    "yy_test = newton_eval(P, x, x);\n",
    "\n",
    "subplot(3, 1, 2);\n",
    "hold;\n",
    "plot(xx, yy)\n",
    "plot(xx, f(xx))\n",
    "plot(x, y, 'o', 'markersize', 12)\n",
    "for i = 1:length(x)\n",
    "    assert(norm(yy_test(i) - y(i)) < 1e-4);\n",
    "endfor\n",
    "legend(\"Aproximare\", \"Real\")\n",
    "\n",
    "% Test 3\n",
    "x = sort((rand(1, 15) - 0.5) * 100);\n",
    "y = f(x);\n",
    "xx = linspace(min(x), max(x));\n",
    "P = newton(x, y);\n",
    "yy = newton_eval(P, x, xx);\n",
    "yy_test = newton_eval(P, x, x);\n",
    "\n",
    "subplot(3, 1, 3);\n",
    "hold;\n",
    "plot(xx, yy)\n",
    "plot(xx, f(xx))\n",
    "plot(x, y, 'o', 'markersize', 12)\n",
    "for i = 1:length(x)\n",
    "    assert(norm(yy_test(i) - y(i)) < 1e-4);\n",
    "endfor\n",
    "legend(\"Aproximare\", \"Real\")"
   ]
  },
  {
   "cell_type": "markdown",
   "metadata": {
    "deletable": false,
    "editable": false,
    "nbgrader": {
     "cell_type": "markdown",
     "checksum": "a003860d25119603b3a959aa690712d3",
     "grade": false,
     "grade_id": "cell-c29da95304d96909",
     "locked": true,
     "schema_version": 3,
     "solution": false,
     "task": false
    }
   },
   "source": [
    "## Problema 4\n",
    "\n",
    "Implementati funcția ```neville(x, y, xx)``` ce primește doi vectori linie, $x, y$, reprezentând coordonatele pe axele OX și OY ale unor puncte ce definesc suportul interpolării și un vector linie $xx$ pentru care vrem să găsim valorile aproximate și returnează un vector linie, $yy$, ce reprezintă valorile interpolării Neville cu suportul $x, y$ prin toate punctele $xx$."
   ]
  },
  {
   "cell_type": "code",
   "execution_count": 23,
   "metadata": {
    "deletable": false,
    "nbgrader": {
     "cell_type": "code",
     "checksum": "20b604a494e91bd23338f65963c359d0",
     "grade": false,
     "grade_id": "cell-3210d22275d2eb47",
     "locked": false,
     "schema_version": 3,
     "solution": true,
     "task": false
    }
   },
   "outputs": [],
   "source": [
    "% Functie care calculeaza recursiv P_ij(to_eval) pentru suportul [x, y]\n",
    "% Nu e obligatoriu sa o implementati\n",
    "\n",
    "function [yy] = neville(x, y, xx)\n",
    "    [m,n]=size(x);\n",
    "    [mxx,nxx]=size(xx);\n",
    "    yy=zeros(1,nxx);\n",
    "    for i=1:nxx\n",
    "        P=zeros(n,n);\n",
    "        for z=1:n\n",
    "            P(z,z)=y(z);\n",
    "        endfor\n",
    "        for z=2:n\n",
    "            for j=z:n\n",
    "                k=j-z+1;\n",
    "                element=0;\n",
    "                element=(xx(i)-x(j))*P(k,j-1)+(x(k)-xx(i))*P(k+1,j);\n",
    "                P(k,j)=element/(x(k)-x(j));\n",
    "            endfor\n",
    "        endfor\n",
    "        yy(i)=P(1,n);\n",
    "    endfor\n",
    "endfunction"
   ]
  },
  {
   "cell_type": "code",
   "execution_count": 25,
   "metadata": {
    "deletable": false,
    "editable": false,
    "nbgrader": {
     "cell_type": "code",
     "checksum": "aaf17a7e9012d764aed4271f00b9de4f",
     "grade": true,
     "grade_id": "cell-8ebb038ac186819f",
     "locked": true,
     "points": 2.5,
     "schema_version": 3,
     "solution": false,
     "task": false
    }
   },
   "outputs": [
    {
     "data": {
      "image/png": "[encoded data removed]",
      "text/plain": [
       "<IPython.core.display.Image object>"
      ]
     },
     "metadata": {},
     "output_type": "display_data"
    }
   ],
   "source": [
    "function [y] = f(x)\n",
    "    y = 8 * sin(x / 2) ./ (abs(cos(x)) + 1);\n",
    "endfunction\n",
    "\n",
    "% Test 1\n",
    "x = sort((rand(1, 3) - 0.5) * 50);\n",
    "y = f(x);\n",
    "xx = linspace(min(x), max(x));\n",
    "yy = neville(x, y, xx);\n",
    "yy_test = neville(x, y, x);\n",
    "\n",
    "subplot(3, 1, 1);\n",
    "hold;\n",
    "plot(xx, yy)\n",
    "plot(xx, f(xx))\n",
    "plot(x, y, 'o', 'markersize', 12)\n",
    "for i = 1:length(x)\n",
    "    assert(norm(yy_test(i) - y(i)) < 1e-4);\n",
    "endfor\n",
    "legend(\"Aproximare\", \"Real\")\n",
    "\n",
    "% Test 2\n",
    "x = sort((rand(1, 7) - 0.5) * 50);\n",
    "y = f(x);\n",
    "xx = linspace(min(x), max(x));\n",
    "yy = neville(x, y, xx);\n",
    "yy_test = neville(x, y, x);\n",
    "\n",
    "subplot(3, 1, 2);\n",
    "hold;\n",
    "plot(xx, yy)\n",
    "plot(xx, f(xx))\n",
    "plot(x, y, 'o', 'markersize', 12)\n",
    "for i = 1:length(x)\n",
    "    assert(norm(yy_test(i) - y(i)) < 1e-4);\n",
    "endfor\n",
    "legend(\"Aproximare\", \"Real\")\n",
    "\n",
    "% Test 3\n",
    "x = sort((rand(1, 10) - 0.5) * 50);\n",
    "y = f(x);\n",
    "xx = linspace(min(x), max(x));\n",
    "yy = neville(x, y, xx);\n",
    "yy_test = neville(x, y, x);\n",
    "\n",
    "subplot(3, 1, 3);\n",
    "hold;\n",
    "plot(xx, yy)\n",
    "plot(xx, f(xx))\n",
    "plot(x, y, 'o', 'markersize', 12)\n",
    "for i = 1:length(x)\n",
    "    assert(norm(yy_test(i) - y(i)) < 1e-4);\n",
    "endfor\n",
    "legend(\"Aproximare\", \"Real\")"
   ]
  },
  {
   "cell_type": "markdown",
   "metadata": {
    "deletable": false,
    "editable": false,
    "nbgrader": {
     "cell_type": "markdown",
     "checksum": "e13833983a0f8b17f0491e54823260e3",
     "grade": false,
     "grade_id": "cell-df9b6f6b091c12cf",
     "locked": true,
     "schema_version": 3,
     "solution": false,
     "task": false
    }
   },
   "source": [
    "## Problema 5\n",
    "\n",
    "Implementati funcția ```spline_c2_natural(x, y)``` ce primește doi vectori linie, $x, y$, reprezentând coordonatele pe axele OX și OY ale unor puncte ce definesc suportul interpolării și returnează o matrice $S$ ce are pe linia i coeficienții $a_{i-1}, b_{i-1}, c_{i-1}, d_{i-1}$."
   ]
  },
  {
   "cell_type": "code",
   "execution_count": 2,
   "metadata": {
    "deletable": false,
    "nbgrader": {
     "cell_type": "code",
     "checksum": "2fa5d8434906341e00e4fc08c96612fb",
     "grade": false,
     "grade_id": "cell-fff77032e4d15bf7",
     "locked": false,
     "schema_version": 3,
     "solution": true,
     "task": false
    }
   },
   "outputs": [],
   "source": [
    "function [S] = spline_c2_natural(x, y)\n",
    "    n = length(x)-1;\n",
    "    A = zeros(4*n);\n",
    "    b = zeros(4*n, 1);\n",
    "    j=1;\n",
    "    % primele n+1 ecuatii\n",
    "    for i = 1:4:4*n\n",
    "        A(j, i) = 1;\n",
    "        b(j) = y(j);\n",
    "        j++;\n",
    "    endfor\n",
    "    \n",
    "    A(j, [4*n-3:4*n]) = [(x(n+1)-x(n)).^([0:2+1])];\n",
    "    b(j) = y(j);\n",
    "    j++;\n",
    "    \n",
    "    % pana aici\n",
    "    \n",
    "    % urmatoarele n-1 ecuatii\n",
    "    \n",
    "    for i = 0:n-2\n",
    "    \n",
    "        A(j, [4*i+1:4*(i+1)]) = (x(i+2)-x(i+1)).^([0:3]);\n",
    "        A(j, 4*(i+1)+1) = -1;\n",
    "    \n",
    "        j++;\n",
    "    endfor   \n",
    "    % pana aici\n",
    "    \n",
    "    % urmatoarele n-1 ecuatii\n",
    "    \n",
    "    for i = 0:n-2\n",
    "    \n",
    "        A(j, [4*i+2:4*(i+1)]) = (x(i+2)-x(i+1)).^[0:2].*[1:3];\n",
    "        A(j, 4*(i+1)+2) = -1;\n",
    "        \n",
    "        j++;\n",
    "    \n",
    "    endfor\n",
    "    \n",
    "    % pana aici\n",
    "\n",
    "    % urmatoarele n-1 ecuatii\n",
    "    \n",
    "    for i = 0:n-2\n",
    "    \n",
    "        A(j, [4*i+3:4*(i+1)]) = (x(i+2)-x(i+1)).^[0:1].*[2, 6];\n",
    "        A(j, 4*(i+1)+3) = -2;\n",
    "        \n",
    "        j++;\n",
    "    \n",
    "    endfor    \n",
    "    \n",
    "    % pana aici\n",
    "\n",
    "    % ultimele 2 ecuatii pentru spline natural\n",
    "\n",
    "        A(j, 3) = 1;\n",
    "        \n",
    "        j++;\n",
    "        \n",
    "        A(j, [4*(n-1)+3, 4*(n-1)+4]) = [2, 6*(x(n+1)- x(n))];\n",
    "\n",
    "    x = inv(A)*b;\n",
    "    S = reshape(x, 4, n)';\n",
    "endfunction"
   ]
  },
  {
   "cell_type": "code",
   "execution_count": 3,
   "metadata": {
    "deletable": false,
    "editable": false,
    "nbgrader": {
     "cell_type": "code",
     "checksum": "61b747ec843b98a389b7f0a77f91929e",
     "grade": true,
     "grade_id": "cell-c3321c1907a49a31",
     "locked": true,
     "points": 2.5,
     "schema_version": 3,
     "solution": false,
     "task": false
    }
   },
   "outputs": [
    {
     "data": {
      "image/png": "[encoded data removed]",
      "text/plain": [
       "<IPython.core.display.Image object>"
      ]
     },
     "metadata": {},
     "output_type": "display_data"
    }
   ],
   "source": [
    "function [XX, YY] = spline_eval(S, x, y)\n",
    "    XX = [];\n",
    "    YY = [];\n",
    "    n = length(x) - 1;\n",
    "    for i = 1:n\n",
    "        s = S(i, :);\n",
    "        xx = linspace(x(i), x(i + 1));\n",
    "        yy = s(1);\n",
    "        yy += s(2) * (xx - repmat(x(i), 1, 100));\n",
    "        yy += s(3) * (xx - repmat(x(i), 1, 100)) .^ 2;\n",
    "        yy += s(4) * (xx - repmat(x(i), 1, 100)) .^ 3;\n",
    "        XX = [XX, xx];\n",
    "        YY = [YY, yy];\n",
    "    endfor\n",
    "endfunction\n",
    "\n",
    "function [y] = f(x)\n",
    "    y = 8 * sin(x / 2) ./ (abs(cos(x)) + 1);\n",
    "endfunction\n",
    "\n",
    "% Test 1\n",
    "x = sort((rand(1, 3) - 0.5) * 50);\n",
    "y = f(x);\n",
    "\n",
    "xx = linspace(min(x), max(x));\n",
    "S = spline_c2_natural(x, y);\n",
    "[XX, YY] = spline_eval(S, x, y);\n",
    "\n",
    "subplot(3, 1, 1);\n",
    "hold;\n",
    "plot(XX, YY)\n",
    "plot(XX, f(XX))\n",
    "plot(x, y, 'o', 'markersize', 12)\n",
    "for i = 1:length(x) - 1\n",
    "    assert(norm(YY(100 * (i - 1) + 1) - y(i)) < 1e-4);\n",
    "endfor\n",
    "assert(norm(YY(end) - y(end)) < 1e-4);\n",
    "legend(\"Aproximare\", \"Real\")\n",
    "\n",
    "% Test 2\n",
    "x = sort((rand(1, 10) - 0.5) * 50);\n",
    "y = f(x);\n",
    "\n",
    "xx = linspace(min(x), max(x));\n",
    "S = spline_c2_natural(x, y);\n",
    "[XX, YY] = spline_eval(S, x, y);\n",
    "\n",
    "subplot(3, 1, 2);\n",
    "hold;\n",
    "plot(XX, YY)\n",
    "plot(XX, f(XX))\n",
    "plot(x, y, 'o', 'markersize', 12)\n",
    "for i = 1:length(x) - 1\n",
    "    assert(norm(YY(100 * (i - 1) + 1) - y(i)) < 1e-4);\n",
    "endfor\n",
    "assert(norm(YY(end) - y(end)) < 1e-4);\n",
    "legend(\"Aproximare\", \"Real\")\n",
    "\n",
    "% Test 3\n",
    "x = sort((rand(1, 100) - 0.5) * 50);\n",
    "y = f(x);\n",
    "\n",
    "xx = linspace(min(x), max(x));\n",
    "S = spline_c2_natural(x, y);\n",
    "[XX, YY] = spline_eval(S, x, y);\n",
    "\n",
    "subplot(3, 1, 3);\n",
    "hold;\n",
    "plot(XX, YY)\n",
    "plot(XX, f(XX))\n",
    "plot(x, y, 'o', 'markersize', 12)\n",
    "for i = 1:length(x) - 1\n",
    "    assert(norm(YY(100 * (i - 1) + 1) - y(i)) < 1e-4);\n",
    "endfor\n",
    "assert(norm(YY(end) - y(end)) < 1e-4);\n",
    "legend(\"Aproximare\", \"Real\")"
   ]
  },
  {
   "cell_type": "code",
   "execution_count": null,
   "metadata": {},
   "outputs": [],
   "source": []
  }
 ],
 "metadata": {
  "kernelspec": {
   "display_name": "Octave",
   "language": "octave",
   "name": "octave"
  },
  "language_info": {
   "file_extension": ".m",
   "help_links": [
    {
     "text": "GNU Octave",
     "url": "https://www.gnu.org/software/octave/support.html"
    },
    {
     "text": "Octave Kernel",
     "url": "https://github.com/Calysto/octave_kernel"
    },
    {
     "text": "MetaKernel Magics",
     "url": "https://metakernel.readthedocs.io/en/latest/source/README.html"
    }
   ],
   "mimetype": "text/x-octave",
   "name": "octave",
   "version": "4.2.2"
  }
 },
 "nbformat": 4,
 "nbformat_minor": 4
}
