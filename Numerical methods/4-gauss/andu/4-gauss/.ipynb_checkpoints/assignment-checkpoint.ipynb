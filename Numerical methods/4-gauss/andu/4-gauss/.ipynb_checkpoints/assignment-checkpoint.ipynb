{
 "cells": [
  {
   "cell_type": "markdown",
   "metadata": {},
   "source": [
    "Inainte sa trimiti notebook-ul:\n",
    "\n",
    "* asigura-te ca totul se executa cum trebuie. Prima oara, **restarteaza kernel-ul** (in meniu, selecteaza Kernel$\\rightarrow$Restart & Run all);\n",
    "\n",
    "* nu lasa niciun mesaj la output (`disp`, `printf`, linii care nu sunt incheiate cu `;`) in functiile pe care le scrii decat daca ti se specifica explicit sa faci acest lucru! Orice abatere va fi **depunctata automat** de grader;\n",
    "\n",
    "* citeste instructiunile de [aici](https://github.com/radusqrt/numerical-methods/blob/master/lab_instructions.md) cu atentie;\n",
    "\n",
    "* asigura-te ca rezolvi toate celulele in care scrie `YOUR CODE HERE` sau `YOUR ANSWER HERE` si ca iti treci numele mai jos:"
   ]
  },
  {
   "cell_type": "code",
   "execution_count": 1,
   "metadata": {},
   "outputs": [],
   "source": [
    "STUDENT_NAME = \"Babian Stelian-Alexandru\";"
   ]
  },
  {
   "cell_type": "markdown",
   "metadata": {},
   "source": [
    "---"
   ]
  },
  {
   "cell_type": "markdown",
   "metadata": {
    "deletable": false,
    "editable": false,
    "nbgrader": {
     "cell_type": "markdown",
     "checksum": "9e6054b5cda0286920ab5fc0d544e621",
     "grade": false,
     "grade_id": "cell-f6d859667d03cd56",
     "locked": true,
     "schema_version": 3,
     "solution": false,
     "task": false
    }
   },
   "source": [
    "# Laborator 4: Eliminari gaussiene\n",
    "### Autor: Radu Stochitoiu"
   ]
  },
  {
   "cell_type": "markdown",
   "metadata": {
    "deletable": false,
    "editable": false,
    "nbgrader": {
     "cell_type": "markdown",
     "checksum": "d7052d83956c034673c94a85d0666a22",
     "grade": false,
     "grade_id": "cell-dfc40073c7bfc46c",
     "locked": true,
     "schema_version": 3,
     "solution": false,
     "task": false
    }
   },
   "source": [
    "## Functii ajutatoare    "
   ]
  },
  {
   "cell_type": "code",
   "execution_count": 2,
   "metadata": {
    "deletable": false,
    "editable": false,
    "nbgrader": {
     "cell_type": "code",
     "checksum": "a5c807c4d8c1ef777d37a607a3d73211",
     "grade": false,
     "grade_id": "cell-14f7a580426c4dfb",
     "locked": true,
     "schema_version": 3,
     "solution": false,
     "task": false
    }
   },
   "outputs": [],
   "source": [
    "function [res] = isequal(A, B, err)\n",
    "    res = norm(A - B) < err;\n",
    "endfunction\n",
    "\n",
    "function [x] = SST(A, b)\n",
    "    n = length(b);\n",
    "    x = [b(n) / A(n, n)];\n",
    "    for i = n-1:-1:1\n",
    "        x = [(b(i) - A(i, [i+1:n]) * x) / A(i,i); x];\n",
    "    endfor\n",
    "endfunction"
   ]
  },
  {
   "cell_type": "markdown",
   "metadata": {
    "deletable": false,
    "editable": false,
    "nbgrader": {
     "cell_type": "markdown",
     "checksum": "495af4def0d0ae4000397536a16c35e6",
     "grade": false,
     "grade_id": "cell-789fe7ccd9e1f42c",
     "locked": true,
     "schema_version": 3,
     "solution": false,
     "task": false
    }
   },
   "source": [
    "## Problema 1\n",
    "\n",
    "Implementati functia ```G(A, b)``` ce primeste ca parametri o matrice $A$ patratica, de lungime pozitiva, si un vector coloana $b$ si returneaza matricea superior triunghiulara rezultata $R$ si solutia sistemului $Ax=b$ aflata prin eliminare gaussiana."
   ]
  },
  {
   "cell_type": "code",
   "execution_count": 3,
   "metadata": {
    "deletable": false,
    "nbgrader": {
     "cell_type": "code",
     "checksum": "dafe9279e2d539788af95d8dad01093c",
     "grade": false,
     "grade_id": "cell-6c4f0e6c8d2cd8ad",
     "locked": false,
     "schema_version": 3,
     "solution": true,
     "task": false
    }
   },
   "outputs": [],
   "source": [
    "function [R, x] = G(A, b)\n",
    "    [l,c]=size(A);\n",
    "    R=zeros(l,l);\n",
    "    extins=[A b];\n",
    "    for i=1:l-1\n",
    "        if extins(i,i)==0\n",
    "            x=NaN;\n",
    "            R=NaN;\n",
    "        endif\n",
    "        for p=i+1:l\n",
    "            element=extins(p,i)/extins(i,i);\n",
    "            extins(p,:)=extins(p,:)-element*extins(i,:);\n",
    "        endfor\n",
    "    endfor\n",
    "    R=extins(:,1:l);\n",
    "    b=extins(:,l+1);\n",
    "    x=zeros(l,1);\n",
    "    x=SST(R,b);  \n",
    "endfunction"
   ]
  },
  {
   "cell_type": "code",
   "execution_count": 4,
   "metadata": {
    "deletable": false,
    "editable": false,
    "nbgrader": {
     "cell_type": "code",
     "checksum": "17e8131d68dc5a8d563111e46d64db13",
     "grade": true,
     "grade_id": "cell-76803ce78500ac5b",
     "locked": true,
     "points": 2.5,
     "schema_version": 3,
     "solution": false,
     "task": false
    }
   },
   "outputs": [],
   "source": [
    "% Test 1\n",
    "A = [2 1 7; 3 1 0; 5 1 4];\n",
    "b = [3 2 4]';\n",
    "R_ref = [2 1 7; 0 -0.5 -10.5; 0 0 18];\n",
    "[R, x] = G(A, b);\n",
    "assert(isequal(R, R_ref, 1e-5));\n",
    "assert(isequal(x, A\\b, 1e-5));"
   ]
  },
  {
   "cell_type": "markdown",
   "metadata": {
    "deletable": false,
    "editable": false,
    "nbgrader": {
     "cell_type": "markdown",
     "checksum": "3ded1ea7249ce4c918a7ba0e393f6048",
     "grade": false,
     "grade_id": "cell-4611f0fe84fa631f",
     "locked": true,
     "schema_version": 3,
     "solution": false,
     "task": false
    }
   },
   "source": [
    "## Problema 2\n",
    "\n",
    "Implementati functia ```GPP(A, b)``` ce primeste ca parametri o matrice $A$ patratica, de lungime pozitiva, si un vector coloana $b$ si returneaza matricea superior triunghiulara rezultata $R$ si solutia sistemului $Ax=b$ aflata prin eliminare gaussiana cu pivotare partiala."
   ]
  },
  {
   "cell_type": "code",
   "execution_count": 5,
   "metadata": {
    "deletable": false,
    "nbgrader": {
     "cell_type": "code",
     "checksum": "0cbf842b9455fa488328146a5bd4727d",
     "grade": false,
     "grade_id": "cell-c7516db089407391",
     "locked": false,
     "schema_version": 3,
     "solution": true,
     "task": false
    }
   },
   "outputs": [],
   "source": [
    "function [R, x] = GPP(A, b)\n",
    "   [l,c]=size(A);\n",
    "   R=zeros(l,l);\n",
    "   x=zeros(l,1);\n",
    "   extins=[A,b];\n",
    "   for i=1:l-1\n",
    "       [piv,lpiv]=max(abs(extins(i:l,i)));\n",
    "       lpiv=lpiv+i-1;\n",
    "       aux=extins(i,:);\n",
    "       extins(i,:)=extins(lpiv,:);\n",
    "       extins(lpiv,:)=aux;\n",
    "       if extins(i,i)==0\n",
    "           x=NaN;\n",
    "           R=NaN;\n",
    "           return;\n",
    "        endif\n",
    "        for p=i+1:l\n",
    "            element=extins(p,i)/extins(i,i);\n",
    "            extins(p,:)=extins(p,:)-element*extins(i,:);\n",
    "        endfor\n",
    "    endfor\n",
    "    R=extins(:,1:l);\n",
    "    b=extins(:,l+1);\n",
    "    x=SST(R,b);\n",
    "endfunction"
   ]
  },
  {
   "cell_type": "code",
   "execution_count": 6,
   "metadata": {
    "deletable": false,
    "editable": false,
    "nbgrader": {
     "cell_type": "code",
     "checksum": "0ef3c72871ab3c305c381190c1b4f938",
     "grade": true,
     "grade_id": "cell-5c65cda0d44beeda",
     "locked": true,
     "points": 2.5,
     "schema_version": 3,
     "solution": false,
     "task": false
    }
   },
   "outputs": [],
   "source": [
    "% Test 1\n",
    "A = [0 1 3; 2 1 3; -3 1 1];\n",
    "b = [3 1 1]';\n",
    "R_ref = [-3 1 1; 0 5/3 11/3; 0 0 4/5];\n",
    "[R, x] = GPP(A, b);\n",
    "assert(isequal(R, R_ref, 1e-5));\n",
    "assert(isequal(x, A\\b, 1e-5));"
   ]
  },
  {
   "cell_type": "markdown",
   "metadata": {
    "deletable": false,
    "editable": false,
    "nbgrader": {
     "cell_type": "markdown",
     "checksum": "e8e2625410666eb8e1d64e5ea3dc51d7",
     "grade": false,
     "grade_id": "cell-2f3b2e1d1293afa5",
     "locked": true,
     "schema_version": 3,
     "solution": false,
     "task": false
    }
   },
   "source": [
    "## Problema 3\n",
    "\n",
    "Implementati functia ```GPPS(A, b)``` ce primeste ca parametri o matrice $A$ patratica, de lungime pozitiva, si un vector coloana $b$ si returneaza matricea superior triunghiulara rezultata $R$ si solutia sistemului $Ax=b$ aflata prin eliminare gaussiana cu pivotare partiala scalata."
   ]
  },
  {
   "cell_type": "code",
   "execution_count": 7,
   "metadata": {
    "deletable": false,
    "nbgrader": {
     "cell_type": "code",
     "checksum": "6bd835763e37b89f550947d3812dca84",
     "grade": false,
     "grade_id": "cell-db5584daf274edcc",
     "locked": false,
     "schema_version": 3,
     "solution": true,
     "task": false
    }
   },
   "outputs": [],
   "source": [
    "function [R, x] = GPPS(A, b)\n",
    "    [l,c]=size(A);\n",
    "    R=zeros(l,l);\n",
    "    x=zeros(l,1);\n",
    "    extins=[A,b];\n",
    "    for i=1:l-1\n",
    "        piv=-inf;\n",
    "        lpiv=-1;\n",
    "        for j=i:l\n",
    "            if piv < abs(extins(j,i))/max(abs(extins(j,i:l)))\n",
    "                piv=abs(extins(j,i))/max(abs(extins(j,i:l)));\n",
    "                lpiv=j;\n",
    "            endif\n",
    "        endfor\n",
    "        if(i~=lpiv)\n",
    "            aux=extins(i,:);\n",
    "            extins(i,:)=extins(lpiv,:);\n",
    "            extins(lpiv,:)=aux;\n",
    "        endif\n",
    "        if extins(i,i)==0\n",
    "            x=NaN;\n",
    "            R=NaN;\n",
    "            return;\n",
    "        endif\n",
    "        for p=i+1:l\n",
    "            element=extins(p,i)/extins(i,i);\n",
    "            extins(p,:)=extins(p,:)-element*extins(i,:);\n",
    "        endfor\n",
    "    endfor\n",
    "    R=extins(:,1:l);\n",
    "    b=extins(:,l+1);\n",
    "    x=SST(R,b); \n",
    "endfunction"
   ]
  },
  {
   "cell_type": "code",
   "execution_count": null,
   "metadata": {},
   "outputs": [],
   "source": [
    "A=[3 2 105;2 -3 103; 1 1 3];\n",
    "b=[104;98;3];\n",
    "[R,x]=GPPS(A,b)"
   ]
  },
  {
   "cell_type": "code",
   "execution_count": 8,
   "metadata": {
    "deletable": false,
    "editable": false,
    "nbgrader": {
     "cell_type": "code",
     "checksum": "9fcbf9f06f1b5c1781fe6000a01d1bc3",
     "grade": true,
     "grade_id": "cell-f44ba7111726bd8f",
     "locked": true,
     "points": 2.5,
     "schema_version": 3,
     "solution": false,
     "task": false
    }
   },
   "outputs": [],
   "source": [
    "% Test 1\n",
    "A = [3 -13 9 3; -6 4 1 -18; 6 -2 2 4; 12 -8 6 10];\n",
    "b = [-19 -34 16 26]';\n",
    "R_ref = [6 -2 2 4; 0 -12 8 1; 0 0 -2/3 5/3; 0 0 0 -3];\n",
    "[R, x] = GPPS(A, b);\n",
    "assert(isequal(R, R_ref, 1e-5));\n",
    "assert(isequal(x, A\\b, 1e-5));"
   ]
  },
  {
   "cell_type": "markdown",
   "metadata": {
    "deletable": false,
    "editable": false,
    "nbgrader": {
     "cell_type": "markdown",
     "checksum": "4dc0f95acae27ea3780f11f9f87b6ce3",
     "grade": false,
     "grade_id": "cell-a4fdda76bb59f660",
     "locked": true,
     "schema_version": 3,
     "solution": false,
     "task": false
    }
   },
   "source": [
    "## Problema 4\n",
    "\n",
    "Implementati functia ```GPT(A, b)``` ce primeste ca parametri o matrice $A$ patratica, de lungime pozitiva, si un vector coloana $b$ si returneaza matricea superior triunghiulara rezultata $R$ si solutia sistemului $Ax=b$ aflata prin eliminare gaussiana cu pivotare totala (se pastreaza ordinea initiala a elementelor lui $x$)."
   ]
  },
  {
   "cell_type": "code",
   "execution_count": 9,
   "metadata": {
    "deletable": false,
    "nbgrader": {
     "cell_type": "code",
     "checksum": "a2f44723c74200d1b27cfa4af49aaf45",
     "grade": false,
     "grade_id": "cell-70fc4464685c4ef4",
     "locked": false,
     "schema_version": 3,
     "solution": true,
     "task": false
    }
   },
   "outputs": [],
   "source": [
    "function [R, x] = GPT(A, b)\n",
    "    [l,c]=size(A);\n",
    "    R=zeros(l,l);\n",
    "    x=zeros(l,1);\n",
    "    extins=[A,b];\n",
    "    permutare=[1:l];\n",
    "    for i=1:l-1\n",
    "        [piv,lpiv]=max(abs(extins(i:l,i:l)));\n",
    "        [piv,cpiv]=max(piv);\n",
    "        lpiv=lpiv+i-1;\n",
    "        lpiv=lpiv(cpiv);\n",
    "        cpiv=cpiv+i-1;\n",
    "        elem=extins(i,:);\n",
    "        extins(i,:)=extins(lpiv,:);\n",
    "        extins(lpiv,:)=elem;\n",
    "        elem=extins(:,i);\n",
    "        extins(:,i)=extins(:,cpiv);\n",
    "        extins(:,cpiv)=elem;\n",
    "        elem=permutare(i);\n",
    "        permutare(i)=permutare(cpiv);\n",
    "        permutare(cpiv)=elem;\n",
    "        for p=i+1:l\n",
    "            if abs(A(i,i))==0\n",
    "                x=NaN;\n",
    "                R=NaN;\n",
    "                return;\n",
    "            endif\n",
    "            element=extins(p,i)/extins(i,i);\n",
    "            extins(p,:)=extins(p,:)-element*extins(i,:);\n",
    "        endfor\n",
    "    endfor\n",
    "    R=extins(:,1:l);\n",
    "    b=extins(:,l+1);\n",
    "    x=SST(R,b);\n",
    "    lungime=length(x);\n",
    "    y=zeros(l,1);\n",
    "    for i=1:lungime\n",
    "        y(permutare(i))=x(i);\n",
    "    endfor\n",
    "    x=y;   \n",
    "endfunction"
   ]
  },
  {
   "cell_type": "code",
   "execution_count": 10,
   "metadata": {
    "deletable": false,
    "editable": false,
    "nbgrader": {
     "cell_type": "code",
     "checksum": "aa47b0a5c651dd02c4b6738b93e84edb",
     "grade": true,
     "grade_id": "cell-aaf13fdc74662547",
     "locked": true,
     "points": 2.5,
     "schema_version": 3,
     "solution": false,
     "task": false
    }
   },
   "outputs": [],
   "source": [
    "% Test 1\n",
    "A = [2 1 7; 3 1 0; 5 1 4];\n",
    "b = [3 2 4]';\n",
    "R_ref = [7 2 1; 0 27/7 3/7; 0 0 2/3];\n",
    "[R, x] = GPT(A, b);\n",
    "assert(isequal(R, R_ref, 1e-5));\n",
    "assert(isequal(x, A\\b, 1e-5));"
   ]
  },
  {
   "cell_type": "markdown",
   "metadata": {
    "deletable": false,
    "editable": false,
    "nbgrader": {
     "cell_type": "markdown",
     "checksum": "9a41a14107f22e724218645517dfb75c",
     "grade": false,
     "grade_id": "cell-20ca6a43d4a00ef7",
     "locked": true,
     "schema_version": 3,
     "solution": false,
     "task": false
    }
   },
   "source": [
    "## Problema 5 (BONUS)\n",
    "\n",
    "Implementati functia ```GaussJordan(A)``` ce primeste ca parametru o matrice $A$ patratica, de lungime pozitiva, si returneaza inversa lui $A$ calculata prin procedeul Gauss-Jordan."
   ]
  },
  {
   "cell_type": "code",
   "execution_count": 11,
   "metadata": {
    "deletable": false,
    "nbgrader": {
     "cell_type": "code",
     "checksum": "8a705416c38e8bb1a322cb95c084246a",
     "grade": false,
     "grade_id": "cell-22661ef82e851a56",
     "locked": false,
     "schema_version": 3,
     "solution": true,
     "task": false
    }
   },
   "outputs": [],
   "source": [
    "function [invA] = GaussJordan(A)\n",
    "    % YOUR CODE HERE\n",
    "    error('No Answer Given!')\n",
    "endfunction"
   ]
  },
  {
   "cell_type": "code",
   "execution_count": 12,
   "metadata": {
    "deletable": false,
    "editable": false,
    "nbgrader": {
     "cell_type": "code",
     "checksum": "d2f1ce363df1fe6dd16413486a59b9a3",
     "grade": true,
     "grade_id": "cell-7622c753ae964e5d",
     "locked": true,
     "points": 2,
     "schema_version": 3,
     "solution": false,
     "task": false
    }
   },
   "outputs": [
    {
     "name": "stdout",
     "output_type": "stream",
     "text": [
      "error: No Answer Given!\n",
      "error: called from\n",
      "    GaussJordan at line 3 column 5\n",
      "error: 'invA' undefined near line 1 column 16\n"
     ]
    }
   ],
   "source": [
    "% Test 1\n",
    "A = [2 3 0; 1 -2 -1; 2 0 -1];\n",
    "[invA] = GaussJordan(A);\n",
    "assert(isequal(invA, inv(A), 1e-5));"
   ]
  }
 ],
 "metadata": {
  "kernelspec": {
   "display_name": "Octave",
   "language": "octave",
   "name": "octave"
  },
  "language_info": {
   "file_extension": ".m",
   "help_links": [
    {
     "text": "GNU Octave",
     "url": "https://www.gnu.org/software/octave/support.html"
    },
    {
     "text": "Octave Kernel",
     "url": "https://github.com/Calysto/octave_kernel"
    },
    {
     "text": "MetaKernel Magics",
     "url": "https://metakernel.readthedocs.io/en/latest/source/README.html"
    }
   ],
   "mimetype": "text/x-octave",
   "name": "octave",
   "version": "4.2.2"
  }
 },
 "nbformat": 4,
 "nbformat_minor": 4
}
