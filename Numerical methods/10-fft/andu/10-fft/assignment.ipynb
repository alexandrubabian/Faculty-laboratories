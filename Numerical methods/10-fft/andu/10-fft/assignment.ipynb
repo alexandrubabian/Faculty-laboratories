{
 "cells": [
  {
   "cell_type": "markdown",
   "metadata": {},
   "source": [
    "Inainte sa trimiti notebook-ul:\n",
    "\n",
    "* asigura-te ca totul se executa cum trebuie. Prima oara, **restarteaza kernel-ul** (in meniu, selecteaza Kernel$\\rightarrow$Restart & Run all);\n",
    "\n",
    "* nu lasa niciun mesaj la output (`disp`, `printf`, linii care nu sunt incheiate cu `;`) in functiile pe care le scrii decat daca ti se specifica explicit sa faci acest lucru! Orice abatere va fi **depunctata automat** de grader;\n",
    "\n",
    "* citeste instructiunile de [aici](https://github.com/radusqrt/numerical-methods/blob/master/lab_instructions.md) cu atentie;\n",
    "\n",
    "* asigura-te ca rezolvi toate celulele in care scrie `YOUR CODE HERE` sau `YOUR ANSWER HERE` si ca iti treci numele mai jos:"
   ]
  },
  {
   "cell_type": "code",
   "execution_count": 1,
   "metadata": {},
   "outputs": [],
   "source": [
    "STUDENT_NAME = \"Babian Stelian Alexandru\";"
   ]
  },
  {
   "cell_type": "markdown",
   "metadata": {},
   "source": [
    "---"
   ]
  },
  {
   "cell_type": "markdown",
   "metadata": {
    "deletable": false,
    "editable": false,
    "nbgrader": {
     "cell_type": "markdown",
     "checksum": "48afbc375057447d36bc8c54b5d9b841",
     "grade": false,
     "grade_id": "cell-2d6aa483647146c7",
     "locked": true,
     "schema_version": 3,
     "solution": false,
     "task": false
    }
   },
   "source": [
    "# Laborator 10: DFT si FFT\n",
    "### Autor: Radu Stochitoiu"
   ]
  },
  {
   "cell_type": "markdown",
   "metadata": {
    "deletable": false,
    "editable": false,
    "nbgrader": {
     "cell_type": "markdown",
     "checksum": "f0f586c6f0a48a040edcb5e030d0a312",
     "grade": false,
     "grade_id": "cell-3923d5075ae3f9b5",
     "locked": true,
     "schema_version": 3,
     "solution": false,
     "task": false
    }
   },
   "source": [
    "## Problema 1\n",
    "\n",
    "Implementati funcția ```create_fourier_matrix(N)``` ce primește $N$, numărul de sample-uri, și returnează matricea F pentru DFT."
   ]
  },
  {
   "cell_type": "code",
   "execution_count": 18,
   "metadata": {
    "deletable": false,
    "nbgrader": {
     "cell_type": "code",
     "checksum": "2ed79aa9fa700b808ac63ea75994c6ff",
     "grade": false,
     "grade_id": "cell-b1820f65cf7b6d5e",
     "locked": false,
     "schema_version": 3,
     "solution": true,
     "task": false
    }
   },
   "outputs": [],
   "source": [
    "function [F] = create_fourier_matrix(N)\n",
    "    F=zeros(N,N);\n",
    "    omega=exp((2*pi*1j)/N);\n",
    "    for i=1:N\n",
    "        for j=1:N\n",
    "            F(i,j)=omega^((i-1)*(j-1));\n",
    "        endfor\n",
    "    endfor\n",
    "endfunction"
   ]
  },
  {
   "cell_type": "code",
   "execution_count": 19,
   "metadata": {
    "deletable": false,
    "editable": false,
    "nbgrader": {
     "cell_type": "code",
     "checksum": "2f58f1b4337b360e684196258544c733",
     "grade": true,
     "grade_id": "cell-65701b56b210bf30",
     "locked": true,
     "points": 5,
     "schema_version": 3,
     "solution": false,
     "task": false
    }
   },
   "outputs": [
    {
     "data": {
      "image/png": "[encoded data removed]",
      "text/plain": [
       "<IPython.core.display.Image object>"
      ]
     },
     "metadata": {},
     "output_type": "display_data"
    }
   ],
   "source": [
    "function [y] = f(t)\n",
    "    y = 5 + 2 * cos(2 * pi * t - pi/2) + 3 * cos(4 * pi * t);\n",
    "endfunction\n",
    "\n",
    "% Test 1\n",
    "N = 5;\n",
    "ref = dlmread(\"create_fourier_matrix_5.dat\");\n",
    "F = create_fourier_matrix(N);\n",
    "assert(norm(F - ref) < 1e-4);\n",
    "samples = linspace(98, 108, N);\n",
    "xx = linspace(min(samples), max(samples));\n",
    "\n",
    "X = inv(F) * f(samples)';\n",
    "yy = ifft(X) * N;\n",
    "\n",
    "subplot(3, 1, 1);\n",
    "hold\n",
    "plot(xx, interp1(samples, yy, xx, 'spline'));\n",
    "plot(xx, f(xx));\n",
    "legend(\"ifft(x)\", \"f(x)\");\n",
    "\n",
    "% Test 2\n",
    "N = 20;\n",
    "ref = dlmread(\"create_fourier_matrix_20.dat\");\n",
    "F = create_fourier_matrix(N);\n",
    "assert(norm(F - ref) < 1e-4);\n",
    "samples = linspace(98, 108, N);\n",
    "xx = linspace(min(samples), max(samples));\n",
    "\n",
    "X = inv(F) * f(samples)';\n",
    "yy = ifft(X) * N;\n",
    "\n",
    "subplot(3, 1, 2);\n",
    "hold\n",
    "plot(xx, interp1(samples, yy, xx, 'spline'));\n",
    "plot(xx, f(xx));\n",
    "legend(\"ifft(x)\", \"f(x)\");\n",
    "\n",
    "% Test 3\n",
    "N = 50;\n",
    "ref = dlmread(\"create_fourier_matrix_50.dat\");\n",
    "F = create_fourier_matrix(N);\n",
    "assert(norm(F - ref) < 1e-4);\n",
    "samples = linspace(98, 108, N);\n",
    "xx = linspace(min(samples), max(samples));\n",
    "\n",
    "X = inv(F) * f(samples)';\n",
    "yy = ifft(X) * N;\n",
    "\n",
    "subplot(3, 1, 3);\n",
    "hold\n",
    "plot(xx, interp1(samples, yy, xx, 'spline'));\n",
    "plot(xx, f(xx));\n",
    "legend(\"ifft(x)\", \"f(x)\");"
   ]
  },
  {
   "cell_type": "markdown",
   "metadata": {
    "deletable": false,
    "editable": false,
    "nbgrader": {
     "cell_type": "markdown",
     "checksum": "0a04c206fed65d92d2dea039db2f9231",
     "grade": false,
     "grade_id": "cell-843b61b013ef8b9e",
     "locked": true,
     "schema_version": 3,
     "solution": false,
     "task": false
    }
   },
   "source": [
    "## Problema 2\n",
    "\n",
    "Implementati funcția ```create_fft_matrix(N)``` ce primește $N$, numărul de sample-uri, și returnează matricea F pentru DFT construită cu ajutorul FFT."
   ]
  },
  {
   "cell_type": "code",
   "execution_count": 28,
   "metadata": {
    "deletable": false,
    "nbgrader": {
     "cell_type": "code",
     "checksum": "462ce36cf13f8f1cbed1119fb149c1d0",
     "grade": false,
     "grade_id": "cell-b6fd64092f1f4c27",
     "locked": false,
     "schema_version": 3,
     "solution": true,
     "task": false
    }
   },
   "outputs": [],
   "source": [
    "function [F] = create_fft_matrix(N)\n",
    "    if (N==1)\n",
    "        F=[1];\n",
    "        return;\n",
    "    endif\n",
    "    omega=exp(2*pi*1i/N);\n",
    "    M=N/2;\n",
    "    F_M=create_fft_matrix(M);\n",
    "    I_M=eye(M);\n",
    "    D_M=diag(omega .^([0:M-1]));\n",
    "    P=zeros(N);\n",
    "    P(sub2ind(size(P),[1:N],[1:2:N,2:2:N]))=1;\n",
    "    F=[I_M,D_M;I_M,-D_M]*blkdiag(F_M,F_M)*P;\n",
    "endfunction"
   ]
  },
  {
   "cell_type": "code",
   "execution_count": 29,
   "metadata": {
    "deletable": false,
    "editable": false,
    "nbgrader": {
     "cell_type": "code",
     "checksum": "8484c9a93663b89e0fdf17ae80f1be43",
     "grade": true,
     "grade_id": "cell-d813674e4cfb50b3",
     "locked": true,
     "points": 5,
     "schema_version": 3,
     "solution": false,
     "task": false
    }
   },
   "outputs": [
    {
     "data": {
      "image/png": "[encoded data removed]",
      "text/plain": [
       "<IPython.core.display.Image object>"
      ]
     },
     "metadata": {},
     "output_type": "display_data"
    }
   ],
   "source": [
    "function [y] = f(t)\n",
    "    y = 5 + 2 * cos(2 * pi * t - pi/2) + 3 * cos(4 * pi * t);\n",
    "endfunction\n",
    "\n",
    "% Test 1\n",
    "N = 8;\n",
    "ref = dlmread(\"create_fft_matrix_8.dat\");\n",
    "F = create_fft_matrix(N);\n",
    "assert(norm(F - ref) < 1e-4);\n",
    "samples = linspace(98, 108, N);\n",
    "xx = linspace(min(samples), max(samples));\n",
    "\n",
    "X = inv(F) * f(samples)';\n",
    "yy = ifft(X) * N;\n",
    "\n",
    "subplot(3, 1, 1);\n",
    "hold\n",
    "plot(xx, interp1(samples, yy, xx, 'spline'));\n",
    "plot(xx, f(xx));\n",
    "legend(\"ifft(x)\", \"f(x)\");\n",
    "\n",
    "% Test 2\n",
    "N = 32;\n",
    "ref = dlmread(\"create_fft_matrix_32.dat\");\n",
    "F = create_fft_matrix(N);\n",
    "assert(norm(F - ref) < 1e-4);\n",
    "samples = linspace(98, 108, N);\n",
    "xx = linspace(min(samples), max(samples));\n",
    "\n",
    "X = inv(F) * f(samples)';\n",
    "yy = ifft(X) * N;\n",
    "\n",
    "subplot(3, 1, 2);\n",
    "hold\n",
    "plot(xx, interp1(samples, yy, xx, 'spline'));\n",
    "plot(xx, f(xx));\n",
    "legend(\"ifft(x)\", \"f(x)\");\n",
    "\n",
    "% Test 3\n",
    "N = 256;\n",
    "ref = dlmread(\"create_fft_matrix_256.dat\");\n",
    "F = create_fft_matrix(N);\n",
    "assert(norm(F - ref) < 1e-4);\n",
    "samples = linspace(98, 108, N);\n",
    "xx = linspace(min(samples), max(samples));\n",
    "\n",
    "X = inv(F) * f(samples)';\n",
    "yy = ifft(X) * N;\n",
    "\n",
    "subplot(3, 1, 3);\n",
    "hold\n",
    "plot(xx, interp1(samples, yy, xx, 'spline'));\n",
    "plot(xx, f(xx));\n",
    "legend(\"ifft(x)\", \"f(x)\");"
   ]
  },
  {
   "cell_type": "code",
   "execution_count": null,
   "metadata": {},
   "outputs": [],
   "source": []
  }
 ],
 "metadata": {
  "kernelspec": {
   "display_name": "Octave",
   "language": "octave",
   "name": "octave"
  },
  "language_info": {
   "file_extension": ".m",
   "help_links": [
    {
     "text": "GNU Octave",
     "url": "https://www.gnu.org/software/octave/support.html"
    },
    {
     "text": "Octave Kernel",
     "url": "https://github.com/Calysto/octave_kernel"
    },
    {
     "text": "MetaKernel Magics",
     "url": "https://metakernel.readthedocs.io/en/latest/source/README.html"
    }
   ],
   "mimetype": "text/x-octave",
   "name": "octave",
   "version": "4.2.2"
  }
 },
 "nbformat": 4,
 "nbformat_minor": 4
}
